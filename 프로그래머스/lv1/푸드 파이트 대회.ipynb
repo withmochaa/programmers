{
 "cells": [
  {
   "cell_type": "code",
   "execution_count": 47,
   "metadata": {},
   "outputs": [],
   "source": [
    "def solution(food):\n",
    "    answer = ''\n",
    "    index=0\n",
    "    for meal in food:\n",
    "        if meal//2!=0:\n",
    "            num=meal//2\n",
    "            answer+=str(index)*num\n",
    "        index+=1\n",
    "    key=answer+'0'+''.join(reversed(answer))\n",
    "    \n",
    "    \n",
    "    return key"
   ]
  },
  {
   "cell_type": "code",
   "execution_count": 48,
   "metadata": {},
   "outputs": [
    {
     "name": "stdout",
     "output_type": "stream",
     "text": [
      "1223330333221\n"
     ]
    }
   ],
   "source": [
    "food=[1, 3, 4, 6]\n",
    "print(solution(food))"
   ]
  },
  {
   "cell_type": "code",
   "execution_count": 39,
   "metadata": {},
   "outputs": [],
   "source": [
    "food=[1, 7, 1, 2]"
   ]
  },
  {
   "cell_type": "code",
   "execution_count": 43,
   "metadata": {},
   "outputs": [],
   "source": [
    "answer=''"
   ]
  },
  {
   "cell_type": "code",
   "execution_count": 44,
   "metadata": {},
   "outputs": [
    {
     "data": {
      "text/plain": [
       "'1223330333221'"
      ]
     },
     "execution_count": 44,
     "metadata": {},
     "output_type": "execute_result"
    }
   ],
   "source": [
    "index=0\n",
    "for meal in food:\n",
    "    if meal//2!=0:\n",
    "        num=meal//2\n",
    "        answer+=str(index)*num\n",
    "    index+=1\n",
    "key=answer+'0'+''.join(reversed(answer))\n",
    "key "
   ]
  },
  {
   "cell_type": "code",
   "execution_count": null,
   "metadata": {},
   "outputs": [],
   "source": []
  }
 ],
 "metadata": {
  "kernelspec": {
   "display_name": "conda_cpu",
   "language": "python",
   "name": "python3"
  },
  "language_info": {
   "codemirror_mode": {
    "name": "ipython",
    "version": 3
   },
   "file_extension": ".py",
   "mimetype": "text/x-python",
   "name": "python",
   "nbconvert_exporter": "python",
   "pygments_lexer": "ipython3",
   "version": "3.12.3"
  }
 },
 "nbformat": 4,
 "nbformat_minor": 2
}
