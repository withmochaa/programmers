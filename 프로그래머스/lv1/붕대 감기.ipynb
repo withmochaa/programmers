{
 "cells": [
  {
   "cell_type": "code",
   "execution_count": 31,
   "metadata": {},
   "outputs": [
    {
     "name": "stdout",
     "output_type": "stream",
     "text": [
      "-1\n"
     ]
    }
   ],
   "source": [
    "def solution(bandage, health, attacks):\n",
    "    answer = 0\n",
    "    life=health\n",
    "    time=0\n",
    "    count=0\n",
    "    for i in range(len(attacks)):\n",
    "        attack_time=attacks[i][0]\n",
    "        attack_power=attacks[i][1]\n",
    "        \n",
    "        while(True):\n",
    "            #print(time)\n",
    "            if time!=attack_time:\n",
    "                count+=1\n",
    "                life+=bandage[1] \n",
    "                if count==bandage[0]:\n",
    "                    life+=bandage[2]\n",
    "                    count=0    \n",
    "                if life>health:\n",
    "                    life=health\n",
    "            elif time==attack_time:\n",
    "                life-=attack_power\n",
    "                count=0\n",
    "                time+=1\n",
    "                if life<=0:\n",
    "                    return -1\n",
    "                break\n",
    "            time+=1\n",
    "            \n",
    "\n",
    "                   \n",
    "    answer=life\n",
    "                \n",
    "                \n",
    "     \n",
    "    return answer\n",
    "\n",
    "    \n",
    "\n",
    "bandage=[3, 2, 7]#시간/초당 회복/추가 회복\n",
    "health=20#최대 체력\n",
    "attacks=[[1, 15], [5, 16], [8, 6]]#공격시간 피해량\n",
    "\n",
    "print(solution(bandage, health, attacks))"
   ]
  },
  {
   "cell_type": "code",
   "execution_count": null,
   "metadata": {},
   "outputs": [],
   "source": []
  }
 ],
 "metadata": {
  "kernelspec": {
   "display_name": "conda_cpu",
   "language": "python",
   "name": "python3"
  },
  "language_info": {
   "codemirror_mode": {
    "name": "ipython",
    "version": 3
   },
   "file_extension": ".py",
   "mimetype": "text/x-python",
   "name": "python",
   "nbconvert_exporter": "python",
   "pygments_lexer": "ipython3",
   "version": "3.12.3"
  }
 },
 "nbformat": 4,
 "nbformat_minor": 2
}
