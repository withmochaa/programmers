{
 "cells": [
  {
   "cell_type": "code",
   "execution_count": 1,
   "metadata": {},
   "outputs": [
    {
     "name": "stdout",
     "output_type": "stream",
     "text": [
      "[[3, 20300401, 10, 8], [1, 20300104, 100, 80]]\n"
     ]
    }
   ],
   "source": [
    "import pandas as pd \n",
    "\n",
    "def solution(data, ext, val_ext, sort_by):\n",
    "    \n",
    "    num=[]\n",
    "    \n",
    "    data2=pd.DataFrame(data,columns=['code','date','maximum','remain'])\n",
    "    count=0\n",
    "    for i in range(data2.shape[0]):\n",
    "        if data2[ext][i]<val_ext:\n",
    "            num.append(i)#save row target list \n",
    "            count+=1\n",
    "    #print(num)\n",
    "    \n",
    "\n",
    "    for i in range(count-1):\n",
    "        for j in range(i+1,count):\n",
    "            if data2[sort_by][num[i]] > data2[sort_by][num[j]]:\n",
    "                c=num[i]\n",
    "                num[i]=num[j]\n",
    "                num[j]=c\n",
    "    #print(num)         \n",
    "    \n",
    "    answer=[[0]*4]*count\n",
    "    for i in range(count):\n",
    "        answer[i]=data[num[i]]\n",
    "    \n",
    "    return answer\n",
    "\n",
    "data=[[1, 20300104, 100, 80], [2, 20300804, 847, 37], [3, 20300401, 10, 8]]\n",
    "ext=\"date\"\n",
    "val_ext=20300501\n",
    "sort_by=\"remain\"\n",
    "\n",
    "print(solution(data, ext, val_ext, sort_by))\n"
   ]
  },
  {
   "cell_type": "code",
   "execution_count": 48,
   "metadata": {},
   "outputs": [],
   "source": [
    "k=[2,3,1,2]\n",
    "\n",
    "a=[i for i in k]"
   ]
  },
  {
   "cell_type": "code",
   "execution_count": 49,
   "metadata": {},
   "outputs": [
    {
     "data": {
      "text/plain": [
       "[2, 3, 1, 2]"
      ]
     },
     "execution_count": 49,
     "metadata": {},
     "output_type": "execute_result"
    }
   ],
   "source": [
    "a"
   ]
  },
  {
   "cell_type": "code",
   "execution_count": 2,
   "metadata": {},
   "outputs": [],
   "source": [
    "data=[[1, 20300104, 100, 80], [2, 20300804, 847, 37], [3, 20300401, 10, 8]]\n",
    "ext=\"date\"\n",
    "val_ext=20300501\n",
    "sort_by=\"remain\"\n",
    "\n"
   ]
  },
  {
   "cell_type": "code",
   "execution_count": 5,
   "metadata": {},
   "outputs": [
    {
     "name": "stdout",
     "output_type": "stream",
     "text": [
      "1\n",
      "1\n"
     ]
    },
    {
     "data": {
      "text/plain": [
       "[[1, 20300104, 100, 80], [3, 20300401, 10, 8]]"
      ]
     },
     "execution_count": 5,
     "metadata": {},
     "output_type": "execute_result"
    }
   ],
   "source": [
    "answer = []\n",
    "by = [ \"code\", \"date\", \"maximum\", \"remain\" ]\n",
    "\n",
    "for item in data:\n",
    "    if item[by.index(ext)] < val_ext:\n",
    "        print(by.index(ext))\n",
    "        answer.append(item)\n",
    "        \n",
    "answer"
   ]
  },
  {
   "cell_type": "code",
   "execution_count": 8,
   "metadata": {},
   "outputs": [
    {
     "data": {
      "text/plain": [
       "1"
      ]
     },
     "execution_count": 8,
     "metadata": {},
     "output_type": "execute_result"
    }
   ],
   "source": [
    "by.index(ext)"
   ]
  },
  {
   "cell_type": "code",
   "execution_count": 9,
   "metadata": {},
   "outputs": [],
   "source": [
    "\n",
    "def solution(data, ext, val_ext, sort_by):\n",
    "    answer = []\n",
    "    by = [ \"code\", \"date\", \"maximum\", \"remain\" ]\n",
    "\n",
    "    for item in data:\n",
    "        if item[by.index(ext)] < val_ext:\n",
    "            answer.append(item)\n",
    "\n",
    "    return sorted(answer, key=lambda x: x[by.index(sort_by)])"
   ]
  },
  {
   "cell_type": "code",
   "execution_count": 13,
   "metadata": {},
   "outputs": [
    {
     "ename": "NameError",
     "evalue": "name 'key' is not defined",
     "output_type": "error",
     "traceback": [
      "\u001b[0;31m---------------------------------------------------------------------------\u001b[0m",
      "\u001b[0;31mNameError\u001b[0m                                 Traceback (most recent call last)",
      "Cell \u001b[0;32mIn[13], line 2\u001b[0m\n\u001b[1;32m      1\u001b[0m \u001b[38;5;28msorted\u001b[39m(answer, key\u001b[38;5;241m=\u001b[39m\u001b[38;5;28;01mlambda\u001b[39;00m x: x[by\u001b[38;5;241m.\u001b[39mindex(sort_by)])\n\u001b[0;32m----> 2\u001b[0m \u001b[38;5;28mprint\u001b[39m(key)\n",
      "\u001b[0;31mNameError\u001b[0m: name 'key' is not defined"
     ]
    }
   ],
   "source": [
    "sorted(answer, key=lambda x: x[by.index(sort_by)])"
   ]
  },
  {
   "cell_type": "code",
   "execution_count": null,
   "metadata": {},
   "outputs": [],
   "source": []
  }
 ],
 "metadata": {
  "kernelspec": {
   "display_name": "conda_cpu",
   "language": "python",
   "name": "python3"
  },
  "language_info": {
   "codemirror_mode": {
    "name": "ipython",
    "version": 3
   },
   "file_extension": ".py",
   "mimetype": "text/x-python",
   "name": "python",
   "nbconvert_exporter": "python",
   "pygments_lexer": "ipython3",
   "version": "3.12.3"
  }
 },
 "nbformat": 4,
 "nbformat_minor": 2
}
