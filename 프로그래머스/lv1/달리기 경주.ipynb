{
 "cells": [
  {
   "cell_type": "code",
   "execution_count": 77,
   "metadata": {},
   "outputs": [
    {
     "name": "stdout",
     "output_type": "stream",
     "text": [
      "['mumu', 'kai', 'mine', 'soe', 'poe']\n"
     ]
    }
   ],
   "source": [
    "def solution(players, callings):\n",
    "    \n",
    "    player={player:key for key,player in enumerate(players)}\n",
    "    #print(player)\n",
    "    for i in range(len(callings)):\n",
    "        index=player[callings[i]]\n",
    "        players[index-1],players[index]=players[index],players[index-1]\n",
    "        #print(players)\n",
    "        player[players[index]]=index\n",
    "        player[players[index-1]]=index-1\n",
    "        #print(player)\n",
    "        \n",
    "        \n",
    "    answer=players\n",
    "    \n",
    "    \n",
    "    return answer\n",
    "\n",
    "print(solution(players, callings))"
   ]
  },
  {
   "cell_type": "code",
   "execution_count": 76,
   "metadata": {},
   "outputs": [],
   "source": [
    "players=[\"mumu\", \"soe\", \"poe\", \"kai\", \"mine\"]\n",
    "callings=[\"kai\", \"kai\", \"mine\", \"mine\"]"
   ]
  },
  {
   "cell_type": "code",
   "execution_count": 51,
   "metadata": {},
   "outputs": [
    {
     "data": {
      "text/plain": [
       "{'mumu': 0, 'soe': 1, 'poe': 2, 'kai': 3, 'mine': 4}"
      ]
     },
     "execution_count": 51,
     "metadata": {},
     "output_type": "execute_result"
    }
   ],
   "source": [
    "player={player:key for key,player in enumerate(players)}\n",
    "player"
   ]
  },
  {
   "cell_type": "code",
   "execution_count": 74,
   "metadata": {},
   "outputs": [
    {
     "name": "stdout",
     "output_type": "stream",
     "text": [
      "0 kim 1 lee 2 park 3 choi "
     ]
    }
   ],
   "source": [
    "for i,value in enumerate(['kim','lee','park','choi']):\n",
    "  print(i,value, end = \" \")\n",
    "#0 kim 1 lee 2 park 3 choi "
   ]
  },
  {
   "cell_type": "code",
   "execution_count": null,
   "metadata": {},
   "outputs": [],
   "source": []
  }
 ],
 "metadata": {
  "kernelspec": {
   "display_name": "conda_cpu",
   "language": "python",
   "name": "python3"
  },
  "language_info": {
   "codemirror_mode": {
    "name": "ipython",
    "version": 3
   },
   "file_extension": ".py",
   "mimetype": "text/x-python",
   "name": "python",
   "nbconvert_exporter": "python",
   "pygments_lexer": "ipython3",
   "version": "3.12.3"
  }
 },
 "nbformat": 4,
 "nbformat_minor": 2
}
