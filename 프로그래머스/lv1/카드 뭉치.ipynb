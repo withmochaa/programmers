{
 "cells": [
  {
   "cell_type": "code",
   "execution_count": 169,
   "metadata": {},
   "outputs": [
    {
     "name": "stdout",
     "output_type": "stream",
     "text": [
      "Yes\n"
     ]
    }
   ],
   "source": [
    "def solution(cards1, cards2, goal):\n",
    "    index1=0\n",
    "    index2=0\n",
    "    count=0\n",
    "    \n",
    "    card1={f:i for i,f in enumerate(cards1)}\n",
    "    card2={f:i for i,f in enumerate(cards2)}\n",
    "\n",
    "    for word in goal:\n",
    "        if word in card1:\n",
    "            count+=1\n",
    "            if card1[word]-index1>1:\n",
    "                return \"No\"\n",
    "            elif index1<card1[word]:\n",
    "                index1=card1[word]\n",
    "            elif index1>card1[word]:\n",
    "                return \"No\"\n",
    "        elif word in card2:\n",
    "            count+=1\n",
    "            if card2[word]-index2>1:\n",
    "                return \"No\"\n",
    "            elif index2<card2[word]:\n",
    "                index2=card2[word]\n",
    "            elif index2>card2[word]:\n",
    "                return \"No\"\n",
    "        elif word not in goal:\n",
    "            return \"No\"   \n",
    "    if count==len(goal):\n",
    "        return \"Yes\"\n",
    "\n",
    "    \n",
    "print(solution(cards1, cards2, goal))"
   ]
  },
  {
   "cell_type": "code",
   "execution_count": 165,
   "metadata": {},
   "outputs": [
    {
     "name": "stdout",
     "output_type": "stream",
     "text": [
      "\n"
     ]
    }
   ],
   "source": [
    "answer=''\n",
    "print(answer)"
   ]
  },
  {
   "cell_type": "code",
   "execution_count": 167,
   "metadata": {},
   "outputs": [],
   "source": [
    "cards1=[\"i\", \"drink\", \"water\"]\n",
    "cards2=[\"want\", \"to\"]\n",
    "goal=[\"i\", \"want\", \"to\", \"drink\", \"water\"]\n",
    "\n",
    "\n"
   ]
  },
  {
   "cell_type": "code",
   "execution_count": 149,
   "metadata": {},
   "outputs": [
    {
     "name": "stdout",
     "output_type": "stream",
     "text": [
      "{'i': 0, 'water': 1, 'drink': 2}\n",
      "{'want': 0, 'to': 1}\n"
     ]
    }
   ],
   "source": [
    "card1={f:i for i,f in enumerate(cards1)}\n",
    "card2={f:i for i,f in enumerate(cards2)}\n",
    "\n",
    "print(card1)\n",
    "print(card2)"
   ]
  },
  {
   "cell_type": "code",
   "execution_count": 58,
   "metadata": {},
   "outputs": [
    {
     "data": {
      "text/plain": [
       "0"
      ]
     },
     "execution_count": 58,
     "metadata": {},
     "output_type": "execute_result"
    }
   ],
   "source": [
    "card1['i']"
   ]
  },
  {
   "cell_type": "code",
   "execution_count": 59,
   "metadata": {},
   "outputs": [],
   "source": [
    "count1=0\n",
    "index1=0\n",
    "for word in goal:\n",
    "    for card_1 in cards1:\n",
    "        if word==card_1:\n",
    "            count1+=1\n",
    "            if index1==0:\n",
    "                index1=card1[card_1]\n",
    "                break\n",
    "            elif index1>card1[card_1]:\n",
    "                answer='No'\n",
    "                print(answer)\n",
    "                break\n",
    "            \n",
    "            \n",
    "count2=0\n",
    "index2=0\n",
    "for word in goal:\n",
    "    for card_2 in cards2:\n",
    "        if word==card_2:\n",
    "            count2+=1\n",
    "            if index2==0:\n",
    "                index2=card2[card_2]\n",
    "                break\n",
    "            elif index2>card1[card_2]:\n",
    "                answer='No'\n",
    "                print(answer)\n",
    "                break         \n",
    "\n",
    "\n",
    "            \n",
    "            "
   ]
  },
  {
   "cell_type": "code",
   "execution_count": 131,
   "metadata": {},
   "outputs": [
    {
     "name": "stdout",
     "output_type": "stream",
     "text": [
      "{'a': 0, 'b': 1, 'c': 2}\n",
      "{'d': 0, 'e': 1, 'f': 2}\n",
      "['a', 'd', 'f']\n"
     ]
    }
   ],
   "source": [
    "print(card1)\n",
    "print(card2)\n",
    "print(goal)"
   ]
  },
  {
   "cell_type": "code",
   "execution_count": 150,
   "metadata": {},
   "outputs": [
    {
     "name": "stdout",
     "output_type": "stream",
     "text": [
      "1\n",
      "1\n",
      "2\n",
      "No\n"
     ]
    }
   ],
   "source": [
    "index1=0\n",
    "index2=0\n",
    "count=0\n",
    "for word in goal:\n",
    "    if word in card1:\n",
    "        if index1<card1[word] and card1[word]-index1<=1:\n",
    "            print(card1[word]-index1)\n",
    "            index1=card1[word]\n",
    "            count+=1\n",
    "        elif index1>card1[word]:\n",
    "            print(\"No\")\n",
    "    elif word in card2:\n",
    "        if index2<card2[word] and card2[word]-index2<=1:\n",
    "            print(card2[word]-index2)\n",
    "            index2=card2[word]\n",
    "            count+=1\n",
    "        elif index2>card2[word]:\n",
    "            print(\"No\")\n",
    "    else:\n",
    "        print(\"No\")\n",
    "print(count)\n",
    "if count==len(goal):\n",
    "    print(\"Yes\")          \n",
    "else:\n",
    "    print(\"No\")"
   ]
  },
  {
   "cell_type": "code",
   "execution_count": null,
   "metadata": {},
   "outputs": [],
   "source": []
  },
  {
   "cell_type": "code",
   "execution_count": null,
   "metadata": {},
   "outputs": [],
   "source": []
  }
 ],
 "metadata": {
  "kernelspec": {
   "display_name": "conda_cpu",
   "language": "python",
   "name": "python3"
  },
  "language_info": {
   "codemirror_mode": {
    "name": "ipython",
    "version": 3
   },
   "file_extension": ".py",
   "mimetype": "text/x-python",
   "name": "python",
   "nbconvert_exporter": "python",
   "pygments_lexer": "ipython3",
   "version": "3.12.3"
  }
 },
 "nbformat": 4,
 "nbformat_minor": 2
}
