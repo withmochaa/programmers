{
 "cells": [
  {
   "cell_type": "code",
   "execution_count": 11,
   "metadata": {},
   "outputs": [],
   "source": [
    "def solution(survey, choices):\n",
    "    answer = ''\n",
    "    \n",
    "    name=[0]*8\n",
    "    \n",
    "    li={'R':0,'T':1,'C':2,\"F\":3,'J':4,'M':5,'A':6,'N':7}\n",
    "    \n",
    "    for i in range(len(survey)):\n",
    "        if choices[i]==1:\n",
    "            name[li[survey[i][0]]]+=3\n",
    "        elif choices[i]==2:\n",
    "            name[li[survey[i][0]]]+=2\n",
    "        elif choices[i]==3:\n",
    "            name[li[survey[i][0]]]+=1\n",
    "        elif choices[i]==4:\n",
    "            continue\n",
    "        elif choices[i]==5:\n",
    "            name[li[survey[i][1]]]+=1\n",
    "        elif choices[i]==6:\n",
    "            name[li[survey[i][1]]]+=2\n",
    "        elif choices[i]==7:\n",
    "            name[li[survey[i][1]]]+=3\n",
    "        \n",
    "        \n",
    "\n",
    "    if name[0]>name[1]:\n",
    "        answer+='R'\n",
    "    elif name[0]<name[1]:\n",
    "        answer+='T'\n",
    "    else:\n",
    "        answer+=min('R','T')\n",
    "        \n",
    "    if name[2]>name[3]:\n",
    "        answer+='C'\n",
    "    elif name[2]<name[3]:\n",
    "        answer+='F'\n",
    "    else:\n",
    "        answer+=min('C','F')\n",
    "            \n",
    "    if name[4]>name[5]:\n",
    "        answer+='J'\n",
    "    elif name[4]<name[5]:\n",
    "        answer+='M'\n",
    "    else:\n",
    "        answer+=min('J','M')\n",
    "        \n",
    "            \n",
    "    if name[6]>name[7]:\n",
    "        answer+='A'\n",
    "    elif name[6]<name[7]:\n",
    "        answer+='N'\n",
    "    else:\n",
    "        answer+=min('A','N')\n",
    "            \n",
    "               \n",
    "    \n",
    "    return answer"
   ]
  },
  {
   "cell_type": "code",
   "execution_count": 28,
   "metadata": {},
   "outputs": [],
   "source": [
    "def solution(survey, choices):\n",
    "    answer = ''\n",
    "    \n",
    "    name=[0]*8\n",
    "    \n",
    "    li={'R':0,'T':1,'C':2,\"F\":3,'J':4,'M':5,'A':6,'N':7}\n",
    "    \n",
    "    for surv, cho in zip(survey,choices):\n",
    "        if cho==1 or cho==7:\n",
    "            if cho==7:\n",
    "                name[li[surv[1]]]+=3\n",
    "            else:\n",
    "                name[li[surv[0]]]+=3\n",
    "        elif cho==2 or cho==6:\n",
    "            if cho==6:\n",
    "                name[li[surv[1]]]+=2\n",
    "            else:\n",
    "                name[li[surv[0]]]+=2\n",
    "        elif cho==3 or cho==5:\n",
    "            if cho==5:\n",
    "                name[li[surv[1]]]+=1\n",
    "            else:\n",
    "                name[li[surv[0]]]+=1\n",
    "        elif cho==4:\n",
    "            continue\n",
    "    #print(name)\n",
    "    \n",
    "    \n",
    "    for i in range(0,len(name),2):\n",
    "        if name[i]>name[i+1]:\n",
    "            answer+=list(li.keys())[i]\n",
    "        elif name[i]<name[i+1]:\n",
    "            answer+=list(li.keys())[i+1]\n",
    "        else:\n",
    "            answer+=min(list(li.keys())[i],list(li.keys())[i+1])\n",
    "       \n",
    "    \n",
    "    return answer"
   ]
  },
  {
   "cell_type": "code",
   "execution_count": 29,
   "metadata": {},
   "outputs": [
    {
     "name": "stdout",
     "output_type": "stream",
     "text": [
      "TCMA\n"
     ]
    }
   ],
   "source": [
    "survey=[\"AN\",\"CF\", \"MJ\", \"RT\", \"NA\"]\n",
    "choices=[5, 3, 2, 7, 5]\n",
    "print(solution(survey, choices))"
   ]
  },
  {
   "cell_type": "code",
   "execution_count": 42,
   "metadata": {},
   "outputs": [
    {
     "name": "stdout",
     "output_type": "stream",
     "text": [
      "RCJA\n"
     ]
    }
   ],
   "source": [
    "survey=[\"TR\", \"RT\", \"TR\"]\n",
    "choices=[7, 1, 3]\n",
    "print(solution(survey, choices))"
   ]
  },
  {
   "cell_type": "code",
   "execution_count": 30,
   "metadata": {},
   "outputs": [
    {
     "name": "stdout",
     "output_type": "stream",
     "text": [
      "A\n"
     ]
    }
   ],
   "source": [
    "print(min('A','B'))"
   ]
  },
  {
   "cell_type": "code",
   "execution_count": 43,
   "metadata": {},
   "outputs": [
    {
     "name": "stdout",
     "output_type": "stream",
     "text": [
      "TR 7\n",
      "RT 1\n",
      "TR 3\n"
     ]
    }
   ],
   "source": [
    "for a,b in zip(survey,choices):\n",
    "    print(a,b)"
   ]
  },
  {
   "cell_type": "code",
   "execution_count": 47,
   "metadata": {},
   "outputs": [
    {
     "name": "stdout",
     "output_type": "stream",
     "text": [
      "0\n",
      "BA\n"
     ]
    }
   ],
   "source": [
    "A='AB'\n",
    "print(A.index('A'))\n",
    "print(A[::-1])"
   ]
  },
  {
   "cell_type": "code",
   "execution_count": 48,
   "metadata": {},
   "outputs": [
    {
     "name": "stdout",
     "output_type": "stream",
     "text": [
      "True\n",
      "True\n",
      "True\n",
      "True\n"
     ]
    }
   ],
   "source": [
    "print('R'<'T')\n",
    "print('C'<'F')\n",
    "print('J'<'M')\n",
    "print('A'<'N')"
   ]
  },
  {
   "cell_type": "code",
   "execution_count": 49,
   "metadata": {},
   "outputs": [],
   "source": [
    "li={'R':0,'T':1,'C':2,\"F\":3,'J':4,'M':5,'A':6,'N':7}"
   ]
  },
  {
   "cell_type": "code",
   "execution_count": 50,
   "metadata": {},
   "outputs": [
    {
     "data": {
      "text/plain": [
       "{'R': 1, 'T': 1, 'C': 2, 'F': 3, 'J': 4, 'M': 5, 'A': 6, 'N': 7}"
      ]
     },
     "execution_count": 50,
     "metadata": {},
     "output_type": "execute_result"
    }
   ],
   "source": [
    "li['R']+=1\n",
    "li"
   ]
  },
  {
   "cell_type": "code",
   "execution_count": 9,
   "metadata": {},
   "outputs": [
    {
     "name": "stdout",
     "output_type": "stream",
     "text": [
      "0\n"
     ]
    }
   ],
   "source": [
    "li={'R':0,'T':1,'C':2,\"F\":3,'J':4,'M':5,'A':6,'N':7}\n",
    "print(li.get('R'))"
   ]
  },
  {
   "cell_type": "code",
   "execution_count": 30,
   "metadata": {},
   "outputs": [
    {
     "name": "stdout",
     "output_type": "stream",
     "text": [
      "T\n"
     ]
    }
   ],
   "source": [
    "print(list(li.keys())[1])"
   ]
  },
  {
   "cell_type": "code",
   "execution_count": 13,
   "metadata": {},
   "outputs": [],
   "source": [
    "li=range(10)"
   ]
  },
  {
   "cell_type": "code",
   "execution_count": 16,
   "metadata": {},
   "outputs": [
    {
     "name": "stdout",
     "output_type": "stream",
     "text": [
      "1\n"
     ]
    }
   ],
   "source": [
    "print(list(li).index(1))"
   ]
  },
  {
   "cell_type": "code",
   "execution_count": 3,
   "metadata": {},
   "outputs": [
    {
     "name": "stdout",
     "output_type": "stream",
     "text": [
      "{10: 0, 11: 1, 12: 2, 13: 3, 14: 4, 15: 5, 16: 6, 17: 7, 18: 8, 19: 9}\n"
     ]
    }
   ],
   "source": [
    "li=list(range(10,20))\n",
    "\n",
    "dic={f:i for i,f in enumerate(li)}\n",
    "\n",
    "print(dic)"
   ]
  },
  {
   "cell_type": "code",
   "execution_count": 4,
   "metadata": {},
   "outputs": [
    {
     "name": "stdout",
     "output_type": "stream",
     "text": [
      "0 10\n",
      "1 11\n",
      "2 12\n",
      "3 13\n",
      "4 14\n",
      "5 15\n",
      "6 16\n",
      "7 17\n",
      "8 18\n",
      "9 19\n"
     ]
    }
   ],
   "source": [
    "for i,f in enumerate(li):\n",
    "    print(i,f)"
   ]
  },
  {
   "cell_type": "code",
   "execution_count": 18,
   "metadata": {},
   "outputs": [
    {
     "data": {
      "text/plain": [
       "{0: 'A', 1: 'B', 2: 'C'}"
      ]
     },
     "execution_count": 18,
     "metadata": {},
     "output_type": "execute_result"
    }
   ],
   "source": [
    "li=['A','B','C']\n",
    "\n",
    "dic={f:i for f, i in enumerate(li)}\n",
    "dic"
   ]
  },
  {
   "cell_type": "code",
   "execution_count": null,
   "metadata": {},
   "outputs": [],
   "source": []
  }
 ],
 "metadata": {
  "kernelspec": {
   "display_name": "conda_cpu",
   "language": "python",
   "name": "python3"
  },
  "language_info": {
   "codemirror_mode": {
    "name": "ipython",
    "version": 3
   },
   "file_extension": ".py",
   "mimetype": "text/x-python",
   "name": "python",
   "nbconvert_exporter": "python",
   "pygments_lexer": "ipython3",
   "version": "3.12.3"
  }
 },
 "nbformat": 4,
 "nbformat_minor": 2
}
