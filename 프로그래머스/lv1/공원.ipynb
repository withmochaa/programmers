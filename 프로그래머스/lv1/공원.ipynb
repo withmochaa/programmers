{
 "cells": [
  {
   "cell_type": "code",
   "execution_count": 37,
   "metadata": {},
   "outputs": [],
   "source": [
    "def solution(mats, park):\n",
    "    answer = 0\n",
    "    mats=sorted(mats,reverse=True)\n",
    "    \n",
    "    row=len(park)\n",
    "    col=len(park[0])\n",
    "\n",
    "    for map in mats:\n",
    "        for i in range(row-map+1):\n",
    "            for j in range(col-map+1):\n",
    "                if park[i][j]=='-1':\n",
    "                    count=0\n",
    "                    change=0\n",
    "                    for k in range(i,i+map):\n",
    "                        if change==1:\n",
    "                            break\n",
    "                        for t in range(j,j+map):\n",
    "                            if park[k][t]!='-1':\n",
    "                                #print(map,k,t)\n",
    "                                count+=1\n",
    "                                change=1\n",
    "                                break\n",
    "                    if count==0:\n",
    "                        return map\n",
    "           \n",
    "    return -1"
   ]
  },
  {
   "cell_type": "code",
   "execution_count": null,
   "metadata": {},
   "outputs": [],
   "source": [
    "def solution(mats, park):\n",
    "    # 돗자리의 크기를 내림차순으로 정렬\n",
    "    mats.sort(reverse=True)\n",
    "    \n",
    "    rows = len(park)\n",
    "    cols = len(park[0])\n",
    "    \n",
    "    # 가능한 가장 큰 돗자리 크기 확인\n",
    "    for size in mats:\n",
    "        # 공원에서 size x size 정사각형을 검사\n",
    "        for i in range(rows - size + 1):\n",
    "            for j in range(cols - size + 1):\n",
    "                can_place = True\n",
    "                \n",
    "                # size x size 정사각형 내부 검사\n",
    "                for x in range(size):\n",
    "                    if not can_place:\n",
    "                        break\n",
    "                    for y in range(size):\n",
    "                        if park[i + x][j + y] != \"-1\":\n",
    "                            can_place = False\n",
    "                            break\n",
    "                \n",
    "                # 돗자리를 깔 수 있는 위치를 찾으면 해당 크기를 반환\n",
    "                if can_place:\n",
    "                    return size\n",
    "    \n",
    "    # 아무런 돗자리도 깔 수 없는 경우\n",
    "    return -1"
   ]
  },
  {
   "cell_type": "code",
   "execution_count": 38,
   "metadata": {},
   "outputs": [
    {
     "name": "stdout",
     "output_type": "stream",
     "text": [
      "3\n"
     ]
    }
   ],
   "source": [
    "mats=[5,3,2]\n",
    "park=[[\"A\", \"A\", \"-1\", \"B\", \"B\", \"B\", \"B\", \"-1\"], [\"A\", \"A\", \"-1\", \"B\", \"B\", \"B\", \"B\", \"-1\"], [\"-1\", \"-1\", \"-1\", \"-1\", \"-1\", \"-1\", \"-1\", \"-1\"], [\"D\", \"D\", \"-1\", \"-1\", \"-1\", \"-1\", \"E\", \"-1\"], [\"D\", \"D\", \"-1\", \"-1\", \"-1\", \"-1\", \"-1\", \"F\"], [\"D\", \"D\", \"-1\", \"-1\", \"-1\", \"-1\", \"E\", \"-1\"]]\n",
    "print(solution(mats, park))"
   ]
  },
  {
   "cell_type": "code",
   "execution_count": 9,
   "metadata": {},
   "outputs": [
    {
     "name": "stdout",
     "output_type": "stream",
     "text": [
      "[5, 3, 2]\n"
     ]
    }
   ],
   "source": [
    "print(sorted(mats,reverse=True))"
   ]
  },
  {
   "cell_type": "code",
   "execution_count": 4,
   "metadata": {},
   "outputs": [
    {
     "name": "stdout",
     "output_type": "stream",
     "text": [
      "6\n"
     ]
    }
   ],
   "source": [
    "print(len(park))"
   ]
  },
  {
   "cell_type": "code",
   "execution_count": 8,
   "metadata": {},
   "outputs": [
    {
     "name": "stdout",
     "output_type": "stream",
     "text": [
      "5\n",
      "------------------------------------\n",
      "5\n",
      "------------------------------------\n",
      "3\n",
      "------------------------------------\n",
      "3\n",
      "------------------------------------\n",
      "3\n",
      "------------------------------------\n",
      "3\n",
      "------------------------------------\n",
      "3\n",
      "------------------------------------\n",
      "3\n",
      "------------------------------------\n",
      "3\n",
      "------------------------------------\n",
      "3\n",
      "------------------------------------\n",
      "3\n",
      "------------------------------------\n",
      "3\n",
      "------------------------------------\n",
      "3\n",
      "------------------------------------\n",
      "3\n",
      "------------------------------------\n",
      "2\n",
      "------------------------------------\n",
      "2\n",
      "------------------------------------\n",
      "2\n",
      "------------------------------------\n",
      "2\n",
      "------------------------------------\n",
      "2\n",
      "------------------------------------\n",
      "2\n",
      "------------------------------------\n",
      "2\n",
      "------------------------------------\n",
      "2\n",
      "------------------------------------\n",
      "2\n",
      "------------------------------------\n",
      "2\n",
      "------------------------------------\n",
      "2\n",
      "------------------------------------\n",
      "2\n",
      "------------------------------------\n",
      "2\n",
      "------------------------------------\n",
      "2\n",
      "------------------------------------\n",
      "2\n",
      "------------------------------------\n",
      "2\n",
      "------------------------------------\n"
     ]
    },
    {
     "ename": "IndexError",
     "evalue": "list index out of range",
     "output_type": "error",
     "traceback": [
      "\u001b[0;31m---------------------------------------------------------------------------\u001b[0m",
      "\u001b[0;31mIndexError\u001b[0m                                Traceback (most recent call last)",
      "Cell \u001b[0;32mIn[8], line 8\u001b[0m\n\u001b[1;32m      6\u001b[0m \u001b[38;5;28;01mfor\u001b[39;00m i \u001b[38;5;129;01min\u001b[39;00m \u001b[38;5;28mrange\u001b[39m(row\u001b[38;5;241m-\u001b[39m\u001b[38;5;28mmap\u001b[39m\u001b[38;5;241m+\u001b[39m\u001b[38;5;241m1\u001b[39m):\n\u001b[1;32m      7\u001b[0m     \u001b[38;5;28;01mfor\u001b[39;00m j \u001b[38;5;129;01min\u001b[39;00m \u001b[38;5;28mrange\u001b[39m(col\u001b[38;5;241m-\u001b[39m\u001b[38;5;28mmap\u001b[39m\u001b[38;5;241m+\u001b[39m\u001b[38;5;241m1\u001b[39m):\n\u001b[0;32m----> 8\u001b[0m         \u001b[38;5;28;01mif\u001b[39;00m park[i][j]\u001b[38;5;241m==\u001b[39m\u001b[38;5;124m'\u001b[39m\u001b[38;5;124m-1\u001b[39m\u001b[38;5;124m'\u001b[39m:\n\u001b[1;32m      9\u001b[0m             count\u001b[38;5;241m=\u001b[39m\u001b[38;5;241m0\u001b[39m\n\u001b[1;32m     10\u001b[0m             \u001b[38;5;28;01mfor\u001b[39;00m k \u001b[38;5;129;01min\u001b[39;00m \u001b[38;5;28mrange\u001b[39m(i,row):\n",
      "\u001b[0;31mIndexError\u001b[0m: list index out of range"
     ]
    }
   ],
   "source": [
    "row=len(park[0])\n",
    "col=len(park)\n",
    "max=0\n",
    "for map in mats:\n",
    "    count=0\n",
    "    for i in range(row-map+1):\n",
    "        for j in range(col-map+1):\n",
    "            if park[i][j]=='-1':\n",
    "                count=0\n",
    "                for k in range(i,row):\n",
    "                    for t in range(j,col):\n",
    "                        if park[i][j]!='-1':\n",
    "                            count+=1\n",
    "                if count==0:\n",
    "                    print(map)\n",
    "                    print('------------------------------------')\n",
    "                \n",
    "                    \n",
    "                \n",
    "            \n",
    "print('-1')"
   ]
  },
  {
   "cell_type": "code",
   "execution_count": null,
   "metadata": {},
   "outputs": [],
   "source": []
  }
 ],
 "metadata": {
  "kernelspec": {
   "display_name": "conda_cpu",
   "language": "python",
   "name": "python3"
  },
  "language_info": {
   "codemirror_mode": {
    "name": "ipython",
    "version": 3
   },
   "file_extension": ".py",
   "mimetype": "text/x-python",
   "name": "python",
   "nbconvert_exporter": "python",
   "pygments_lexer": "ipython3",
   "version": "3.12.3"
  }
 },
 "nbformat": 4,
 "nbformat_minor": 2
}
