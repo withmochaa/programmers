{
 "cells": [
  {
   "cell_type": "code",
   "execution_count": 53,
   "metadata": {},
   "outputs": [],
   "source": [
    "def solution(keymap, targets):\n",
    "    answer = []\n",
    "    for i in range(len(targets)):\n",
    "        target=list(targets[i])\n",
    "        count=0\n",
    "        for key in target:\n",
    "            min=0\n",
    "            for i in range(len(keymap)):\n",
    "                A=list(keymap[i])\n",
    "                for j in range(len(A)):\n",
    "                    if A[j]==key:\n",
    "                        if min>j+1:\n",
    "                            min=j+1\n",
    "                        elif min==0:\n",
    "                            min=j+1\n",
    "            if min!=0:\n",
    "                count+=min\n",
    "            if min==0:\n",
    "                answer.append(-1)\n",
    "                break\n",
    "        if count and min:\n",
    "            answer.append(count)\n",
    "    \n",
    "    return answer"
   ]
  },
  {
   "cell_type": "code",
   "execution_count": 55,
   "metadata": {},
   "outputs": [
    {
     "name": "stdout",
     "output_type": "stream",
     "text": [
      "[9, -1, 4]\n"
     ]
    }
   ],
   "source": [
    "keymap=[\"ABACD\", \"BCEFD\"]\n",
    "\n",
    "targets=[\"ABCD\",\"DG\", \"AABB\"]\n",
    "\n",
    "print(solution(keymap, targets))#9,4"
   ]
  },
  {
   "cell_type": "code",
   "execution_count": 50,
   "metadata": {},
   "outputs": [
    {
     "name": "stdout",
     "output_type": "stream",
     "text": [
      "-1\n"
     ]
    },
    {
     "data": {
      "text/plain": [
       "[0]"
      ]
     },
     "execution_count": 50,
     "metadata": {},
     "output_type": "execute_result"
    }
   ],
   "source": [
    "result=[]\n",
    "\n",
    "for i in range(len(targets)):\n",
    "    target=list(targets[i])\n",
    "    count=0\n",
    "    for key in target:\n",
    "        min=0\n",
    "        for i in range(len(keymap)):\n",
    "            A=list(keymap[i])\n",
    "            for j in range(len(A)):\n",
    "                if A[j]==key:\n",
    "                    if min>j+1:\n",
    "                        min=j+1\n",
    "                    elif min==0:\n",
    "                        min=j+1\n",
    "        if min!=0:\n",
    "            count+=min\n",
    "        elif min==0:\n",
    "            print('-1')\n",
    "    result.append(count)               \n",
    "result"
   ]
  },
  {
   "cell_type": "code",
   "execution_count": null,
   "metadata": {},
   "outputs": [],
   "source": []
  }
 ],
 "metadata": {
  "kernelspec": {
   "display_name": "conda_cpu",
   "language": "python",
   "name": "python3"
  },
  "language_info": {
   "codemirror_mode": {
    "name": "ipython",
    "version": 3
   },
   "file_extension": ".py",
   "mimetype": "text/x-python",
   "name": "python",
   "nbconvert_exporter": "python",
   "pygments_lexer": "ipython3",
   "version": "3.12.3"
  }
 },
 "nbformat": 4,
 "nbformat_minor": 2
}
