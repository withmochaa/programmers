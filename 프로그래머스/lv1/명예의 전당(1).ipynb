{
 "cells": [
  {
   "cell_type": "code",
   "execution_count": 1,
   "metadata": {},
   "outputs": [],
   "source": [
    "def solution(k, score):\n",
    "    answer = []\n",
    "    sco=[]\n",
    "    for i in range(len(score)):\n",
    "        if i<k:\n",
    "            sco.append(score[i])\n",
    "            sco.sort(reverse=True)\n",
    "            answer.append(min(sco))\n",
    "        else:\n",
    "            if score[i]>sco[k-1]:\n",
    "                sco.append(score[i])\n",
    "                sco.sort(reverse=True)\n",
    "                answer.append(sco[k-1])\n",
    "            else:\n",
    "                answer.append(sco[k-1])\n",
    "        \n",
    "    \n",
    "    return answer"
   ]
  },
  {
   "cell_type": "code",
   "execution_count": 16,
   "metadata": {},
   "outputs": [],
   "source": [
    "k=3\n",
    "score=[10, 100, 20, 150, 1, 100, 200]"
   ]
  },
  {
   "cell_type": "code",
   "execution_count": 14,
   "metadata": {},
   "outputs": [],
   "source": [
    "k=4\n",
    "score=[0, 300, 40, 300, 20, 70, 150, 50, 500, 1000]"
   ]
  },
  {
   "cell_type": "code",
   "execution_count": 17,
   "metadata": {},
   "outputs": [
    {
     "name": "stdout",
     "output_type": "stream",
     "text": [
      "[10, 10, 10, 20, 20, 100, 100]\n"
     ]
    }
   ],
   "source": [
    "answer=[]\n",
    "sco=[]\n",
    "for i in range(len(score)):\n",
    "    if i<k:\n",
    "        sco.append(score[i])\n",
    "        sco.sort(reverse=True)\n",
    "        answer.append(min(sco))\n",
    "    else:\n",
    "        if score[i]>sco[k-1]:\n",
    "            sco.append(score[i])\n",
    "            sco.sort(reverse=True)\n",
    "            answer.append(sco[k-1])\n",
    "        else:\n",
    "            answer.append(sco[k-1])\n",
    "            \n",
    "    \n",
    "print(answer)"
   ]
  },
  {
   "cell_type": "code",
   "execution_count": null,
   "metadata": {},
   "outputs": [],
   "source": []
  }
 ],
 "metadata": {
  "kernelspec": {
   "display_name": "Python 3 (ipykernel)",
   "language": "python",
   "name": "python3"
  },
  "language_info": {
   "codemirror_mode": {
    "name": "ipython",
    "version": 3
   },
   "file_extension": ".py",
   "mimetype": "text/x-python",
   "name": "python",
   "nbconvert_exporter": "python",
   "pygments_lexer": "ipython3",
   "version": "3.12.3"
  }
 },
 "nbformat": 4,
 "nbformat_minor": 4
}
