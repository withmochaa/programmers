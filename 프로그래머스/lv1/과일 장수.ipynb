{
 "cells": [
  {
   "cell_type": "code",
   "execution_count": 134,
   "metadata": {},
   "outputs": [],
   "source": [
    "def solution(k, m, score):\n",
    "    answer = 0\n",
    "    score.sort(reverse=True)\n",
    "    index=0\n",
    "    \n",
    "    if len(score)<m:\n",
    "        return 0\n",
    "    \n",
    "    while(True):\n",
    "        if score[index+m-1]>k:\n",
    "            answer+=k*m\n",
    "        else:\n",
    "            answer+=score[index+m-1]*m\n",
    "        \n",
    "        index+=m\n",
    "    \n",
    "        if index+m>len(score):\n",
    "            break\n",
    "    return answer"
   ]
  },
  {
   "cell_type": "code",
   "execution_count": 135,
   "metadata": {},
   "outputs": [
    {
     "name": "stdout",
     "output_type": "stream",
     "text": [
      "8\n"
     ]
    }
   ],
   "source": [
    "k=3\n",
    "m=4\n",
    "score=[1, 2, 3, 1, 2, 3, 1]\n",
    "#8\n",
    "print(solution(k, m, score))"
   ]
  },
  {
   "cell_type": "code",
   "execution_count": 121,
   "metadata": {},
   "outputs": [],
   "source": [
    "k=4\n",
    "m=3\n",
    "score=[4, 1, 2, 2, 4, 4, 4, 4, 1, 2, 4, 2]\n",
    "#33"
   ]
  },
  {
   "cell_type": "code",
   "execution_count": 133,
   "metadata": {},
   "outputs": [
    {
     "ename": "IndexError",
     "evalue": "list index out of range",
     "output_type": "error",
     "traceback": [
      "\u001b[0;31m---------------------------------------------------------------------------\u001b[0m",
      "\u001b[0;31mIndexError\u001b[0m                                Traceback (most recent call last)",
      "Cell \u001b[0;32mIn[133], line 4\u001b[0m\n\u001b[1;32m      2\u001b[0m m\u001b[38;5;241m=\u001b[39m\u001b[38;5;241m10\u001b[39m\n\u001b[1;32m      3\u001b[0m score\u001b[38;5;241m=\u001b[39m[\u001b[38;5;241m1\u001b[39m, \u001b[38;5;241m2\u001b[39m, \u001b[38;5;241m3\u001b[39m, \u001b[38;5;241m1\u001b[39m,\u001b[38;5;241m1\u001b[39m,\u001b[38;5;241m1\u001b[39m,\u001b[38;5;241m1\u001b[39m]\n\u001b[0;32m----> 4\u001b[0m \u001b[38;5;28mprint\u001b[39m(solution(k, m, score))\n",
      "Cell \u001b[0;32mIn[131], line 7\u001b[0m, in \u001b[0;36msolution\u001b[0;34m(k, m, score)\u001b[0m\n\u001b[1;32m      4\u001b[0m index\u001b[38;5;241m=\u001b[39m\u001b[38;5;241m0\u001b[39m\n\u001b[1;32m      6\u001b[0m \u001b[38;5;28;01mwhile\u001b[39;00m(\u001b[38;5;28;01mTrue\u001b[39;00m):\n\u001b[0;32m----> 7\u001b[0m     \u001b[38;5;28;01mif\u001b[39;00m score[index\u001b[38;5;241m+\u001b[39mm\u001b[38;5;241m-\u001b[39m\u001b[38;5;241m1\u001b[39m]\u001b[38;5;241m>\u001b[39mk:\n\u001b[1;32m      8\u001b[0m         answer\u001b[38;5;241m+\u001b[39m\u001b[38;5;241m=\u001b[39mk\u001b[38;5;241m*\u001b[39mm\n\u001b[1;32m      9\u001b[0m     \u001b[38;5;28;01melse\u001b[39;00m:\n",
      "\u001b[0;31mIndexError\u001b[0m: list index out of range"
     ]
    }
   ],
   "source": [
    "k=3\n",
    "m=10\n",
    "score=[1, 2, 3, 1,1,1,1]\n",
    "print(solution(k, m, score))"
   ]
  },
  {
   "cell_type": "code",
   "execution_count": 122,
   "metadata": {},
   "outputs": [
    {
     "data": {
      "text/plain": [
       "[4, 4, 4, 4, 4, 4, 2, 2, 2, 2, 1, 1]"
      ]
     },
     "execution_count": 122,
     "metadata": {},
     "output_type": "execute_result"
    }
   ],
   "source": [
    "score.sort(reverse=True)\n",
    "score"
   ]
  },
  {
   "cell_type": "code",
   "execution_count": 123,
   "metadata": {},
   "outputs": [],
   "source": [
    "answer=0"
   ]
  },
  {
   "cell_type": "code",
   "execution_count": 124,
   "metadata": {},
   "outputs": [
    {
     "name": "stdout",
     "output_type": "stream",
     "text": [
      "12\n"
     ]
    }
   ],
   "source": [
    "print(len(score))"
   ]
  },
  {
   "cell_type": "code",
   "execution_count": 125,
   "metadata": {},
   "outputs": [],
   "source": [
    "index=0\n",
    "while(True):\n",
    "    if score[index+m-1]>k:\n",
    "        answer+=k*m\n",
    "    else:\n",
    "        answer+=score[index+m-1]*m\n",
    "        \n",
    "    index+=m\n",
    "    \n",
    "    if index+m>len(score):\n",
    "        break\n",
    "    \n"
   ]
  },
  {
   "cell_type": "code",
   "execution_count": 126,
   "metadata": {},
   "outputs": [
    {
     "data": {
      "text/plain": [
       "33"
      ]
     },
     "execution_count": 126,
     "metadata": {},
     "output_type": "execute_result"
    }
   ],
   "source": [
    "answer"
   ]
  }
 ],
 "metadata": {
  "kernelspec": {
   "display_name": "conda_cpu",
   "language": "python",
   "name": "python3"
  },
  "language_info": {
   "codemirror_mode": {
    "name": "ipython",
    "version": 3
   },
   "file_extension": ".py",
   "mimetype": "text/x-python",
   "name": "python",
   "nbconvert_exporter": "python",
   "pygments_lexer": "ipython3",
   "version": "3.12.3"
  }
 },
 "nbformat": 4,
 "nbformat_minor": 2
}
