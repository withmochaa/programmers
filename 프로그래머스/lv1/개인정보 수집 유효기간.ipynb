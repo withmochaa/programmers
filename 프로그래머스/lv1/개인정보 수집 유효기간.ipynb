{
 "cells": [
  {
   "cell_type": "code",
   "execution_count": 219,
   "metadata": {},
   "outputs": [],
   "source": [
    "def solution(today, terms, privacies):\n",
    "\n",
    "    answer = []\n",
    "    today1=today.split('.')\n",
    "    rule = {}\n",
    "    for term in terms:\n",
    "        key, value = term.split()  \n",
    "        rule[key] = int(value) \n",
    "        \n",
    "    target=[]\n",
    "    for i in range(len(privacies)):\n",
    "        target.append(privacies[i].split())\n",
    "        \n",
    "    num=0\n",
    "    answer=[]\n",
    "    for date,index in target:\n",
    "        day=date.split('.')\n",
    "        num+=1\n",
    "        A=int(day[1])+rule[index]\n",
    "        #print(A)\n",
    "        if A<12:\n",
    "            if A<10:\n",
    "                day[1]='0'+str(A)\n",
    "            else:\n",
    "                day[1]=str(A)\n",
    "        else:#25  24\n",
    "            if A%12!=0:\n",
    "                day[0]=int(day[0])+A//12\n",
    "                day[0]=str(day[0])\n",
    "                day[1]=A%12\n",
    "                        \n",
    "                if int(day[1])<10:\n",
    "                    day[1]='0'+str(day[1])\n",
    "                else:\n",
    "                    day[1]=str(day[1])       \n",
    "            else:\n",
    "                day[0]=int(day[0])+A//12-1\n",
    "                day[0]=str(day[0])\n",
    "                day[1]='12'\n",
    "                \n",
    "        if today1>=day:\n",
    "            answer.append(num)\n",
    "    \n",
    "    \n",
    "    return answer"
   ]
  },
  {
   "cell_type": "code",
   "execution_count": 220,
   "metadata": {},
   "outputs": [
    {
     "name": "stdout",
     "output_type": "stream",
     "text": [
      "[1, 3]\n"
     ]
    }
   ],
   "source": [
    "today= \"2022.05.19\"\n",
    "terms= [\"A 6\", \"B 12\", \"C 3\"]\n",
    "privacies= [\"2021.05.02 A\", \"2021.07.01 B\", \"2022.02.19 C\", \"2022.02.20 C\"]\n",
    "print(solution(today, terms, privacies))"
   ]
  },
  {
   "cell_type": "code",
   "execution_count": 139,
   "metadata": {},
   "outputs": [
    {
     "data": {
      "text/plain": [
       "'2009.12.31'"
      ]
     },
     "execution_count": 139,
     "metadata": {},
     "output_type": "execute_result"
    }
   ],
   "source": [
    "today1=today.split('.')\n",
    "today"
   ]
  },
  {
   "cell_type": "code",
   "execution_count": 141,
   "metadata": {},
   "outputs": [
    {
     "name": "stdout",
     "output_type": "stream",
     "text": [
      "False\n"
     ]
    }
   ],
   "source": [
    "print(today1>=['2010', '01', '03'])"
   ]
  },
  {
   "cell_type": "code",
   "execution_count": 82,
   "metadata": {},
   "outputs": [],
   "source": [
    "rule = {}\n",
    "for term in terms:\n",
    "    key, value = term.split()  \n",
    "    rule[key] = int(value)  \n",
    "    "
   ]
  },
  {
   "cell_type": "code",
   "execution_count": 83,
   "metadata": {},
   "outputs": [
    {
     "data": {
      "text/plain": [
       "[['2019.01.01', 'D'],\n",
       " ['2019.11.15', 'Z'],\n",
       " ['2019.08.02', 'D'],\n",
       " ['2019.07.01', 'D'],\n",
       " ['2018.12.28', 'Z']]"
      ]
     },
     "execution_count": 83,
     "metadata": {},
     "output_type": "execute_result"
    }
   ],
   "source": [
    "target=[]\n",
    "for i in range(len(privacies)):\n",
    "    target.append(privacies[i].split())\n",
    "target"
   ]
  },
  {
   "cell_type": "code",
   "execution_count": 84,
   "metadata": {},
   "outputs": [
    {
     "data": {
      "text/plain": [
       "[1, 4, 5]"
      ]
     },
     "execution_count": 84,
     "metadata": {},
     "output_type": "execute_result"
    }
   ],
   "source": [
    "num=0\n",
    "answer=[]\n",
    "for date,index in target:\n",
    "    day=date.split('.')\n",
    "    num+=1\n",
    "    A=int(day[1])+rule[index]\n",
    "    if A<12:\n",
    "        if A<10:\n",
    "            day[1]='0'+str(A)\n",
    "        else:\n",
    "            day[1]=str(A)\n",
    "    else:\n",
    "        day[0]=int(day[0])+1\n",
    "        day[0]=str(day[0])\n",
    "        day[1]=A-12\n",
    "        if A<10:\n",
    "             day[1]='0'+str(day[1])\n",
    "        else:\n",
    "            day[1]=str(day[1])\n",
    "        \n",
    "    if today1>=day:\n",
    "        answer.append(num)\n",
    "    \n",
    "\n",
    "answer"
   ]
  },
  {
   "cell_type": "code",
   "execution_count": 85,
   "metadata": {},
   "outputs": [
    {
     "name": "stdout",
     "output_type": "stream",
     "text": [
      "True\n"
     ]
    }
   ],
   "source": [
    "print(['2022', '5', '19']>today1)"
   ]
  },
  {
   "cell_type": "code",
   "execution_count": 86,
   "metadata": {},
   "outputs": [
    {
     "name": "stdout",
     "output_type": "stream",
     "text": [
      "False\n"
     ]
    }
   ],
   "source": [
    "print(today1>['2021', 11, '02'])"
   ]
  },
  {
   "cell_type": "code",
   "execution_count": 218,
   "metadata": {},
   "outputs": [
    {
     "name": "stdout",
     "output_type": "stream",
     "text": [
      "0\n"
     ]
    }
   ],
   "source": [
    "print(12%12)"
   ]
  },
  {
   "cell_type": "code",
   "execution_count": null,
   "metadata": {},
   "outputs": [],
   "source": []
  }
 ],
 "metadata": {
  "kernelspec": {
   "display_name": "conda_cpu",
   "language": "python",
   "name": "python3"
  },
  "language_info": {
   "codemirror_mode": {
    "name": "ipython",
    "version": 3
   },
   "file_extension": ".py",
   "mimetype": "text/x-python",
   "name": "python",
   "nbconvert_exporter": "python",
   "pygments_lexer": "ipython3",
   "version": "3.12.3"
  }
 },
 "nbformat": 4,
 "nbformat_minor": 2
}
