{
 "cells": [
  {
   "cell_type": "code",
   "execution_count": 215,
   "metadata": {},
   "outputs": [
    {
     "name": "stdout",
     "output_type": "stream",
     "text": [
      "0 0\n",
      "E\n",
      "W\n",
      "[0, 1]\n"
     ]
    }
   ],
   "source": [
    "def solution(park, routes):\n",
    "    \n",
    "    W=len(park)\n",
    "    H=len(park[0])\n",
    "    map=[]\n",
    "    for i in range(len(park)):\n",
    "        map.append(list(park[i]))\n",
    "\n",
    "\n",
    "    for i in range(len(map)):\n",
    "        for j in range(len(map[0])):\n",
    "            if map[i][j]=='S':\n",
    "                start=[i,j]\n",
    "                \n",
    "    way=[]\n",
    "    step=[]\n",
    "    location=[start,0]\n",
    "    for i in range(len(routes)):\n",
    "        A,B=routes[i].split()\n",
    "        way.append(A)\n",
    "        step.append(B)\n",
    "        \n",
    "    x=start[1]\n",
    "    y=start[0]\n",
    "    print(x,y)\n",
    "    # H 는 가로 W 는 세로 H x W\n",
    "\n",
    "    for i in range(len(way)):\n",
    "        count=0\n",
    "        if way[i]=='E' and x+int(step[i])<H:\n",
    "            print('E')\n",
    "            for i in range(int(step[i])):\n",
    "                if map[y][x+1]!='X':\n",
    "                    x+=1\n",
    "                    count+=1\n",
    "                else:\n",
    "                    x-=count\n",
    "                    break     \n",
    "        elif way[i]=='W' and x-int(step[i])>=0:\n",
    "            print('W')\n",
    "            for i in range(int(step[i])):\n",
    "                if map[y][x-1]!='X':\n",
    "                    x-=1\n",
    "                    count+=1\n",
    "                else:\n",
    "                    x+=count\n",
    "                    break\n",
    "        elif way[i]=='S' and y+int(step[i])<W:\n",
    "            for i in range(int(step[i])):\n",
    "                if map[y+1][x]!='X':\n",
    "                    y+=1\n",
    "                    count+=1\n",
    "                else:\n",
    "                    y-=count\n",
    "                    break\n",
    "        elif way[i]=='N' and y-int(step[i])>=0:\n",
    "            for i in range(int(step[i])):\n",
    "                if map[y-1][x]!='X':\n",
    "                    y-=1\n",
    "                    count+=1\n",
    "                else:\n",
    "                    y+=count\n",
    "                    break    \n",
    "                    \n",
    "                \n",
    "\n",
    "    answer=[y,x]\n",
    "    \n",
    "    \n",
    "    \n",
    "    return answer\n",
    "\n",
    "\n",
    "\n",
    "\n",
    "\n",
    "\n",
    "\n",
    "\n",
    "print(solution(park, routes))"
   ]
  },
  {
   "cell_type": "code",
   "execution_count": null,
   "metadata": {},
   "outputs": [],
   "source": []
  },
  {
   "cell_type": "code",
   "execution_count": 212,
   "metadata": {},
   "outputs": [],
   "source": [
    "park= [\"SOO\",\"OXX\",\"OOO\"]\n",
    "routes=[\"E 2\",\"S 2\",\"W 1\"]"
   ]
  },
  {
   "cell_type": "code",
   "execution_count": 213,
   "metadata": {},
   "outputs": [],
   "source": [
    "W=len(park)\n",
    "H=len(park[0])\n",
    "map=[]\n",
    "for i in range(len(park)):\n",
    "    map.append(list(park[i]))\n",
    "\n",
    "\n",
    "for i in range(len(map)):\n",
    "    for j in range(len(map[0])):\n",
    "        if map[i][j]=='S':\n",
    "            start=[i,j]"
   ]
  },
  {
   "cell_type": "code",
   "execution_count": 214,
   "metadata": {},
   "outputs": [
    {
     "data": {
      "text/plain": [
       "[['S', 'O', 'O'], ['O', 'X', 'X'], ['O', 'O', 'O']]"
      ]
     },
     "execution_count": 214,
     "metadata": {},
     "output_type": "execute_result"
    }
   ],
   "source": [
    "map"
   ]
  },
  {
   "cell_type": "code",
   "execution_count": 209,
   "metadata": {},
   "outputs": [
    {
     "name": "stdout",
     "output_type": "stream",
     "text": [
      "['E', 'S', 'W']\n",
      "['2', '2', '1']\n"
     ]
    }
   ],
   "source": [
    "way=[]\n",
    "step=[]\n",
    "location=[start,0]\n",
    "for i in range(len(routes)):\n",
    "    A,B=routes[i].split()\n",
    "    way.append(A)\n",
    "    step.append(B)\n",
    "print(way)\n",
    "print(step)"
   ]
  },
  {
   "cell_type": "code",
   "execution_count": 210,
   "metadata": {},
   "outputs": [
    {
     "name": "stdout",
     "output_type": "stream",
     "text": [
      "3 3\n"
     ]
    }
   ],
   "source": [
    "print(H,W)"
   ]
  },
  {
   "cell_type": "code",
   "execution_count": 211,
   "metadata": {},
   "outputs": [
    {
     "name": "stdout",
     "output_type": "stream",
     "text": [
      "0 0\n",
      "E\n",
      "0 2\n",
      "0 2\n",
      "W\n",
      "0 1\n"
     ]
    }
   ],
   "source": [
    "x=start[1]\n",
    "y=start[0]\n",
    "print(x,y)\n",
    "# H 는 가로 W 는 세로 H x W\n",
    "\n",
    "for i in range(len(way)):\n",
    "    count=0\n",
    "    if way[i]=='E' and x+int(step[i])<H:\n",
    "        print('E')\n",
    "        for i in range(int(step[i])):\n",
    "            if map[y][x+1]!='X':\n",
    "                x+=1\n",
    "                count+=1\n",
    "            else:\n",
    "                x-=count\n",
    "                break     \n",
    "    elif way[i]=='W' and x-int(step[i])>=0:\n",
    "        print('W')\n",
    "        for i in range(int(step[i])):\n",
    "            if map[y][x-1]!='X':\n",
    "                x-=1\n",
    "                count+=1\n",
    "            else:\n",
    "                x+=count\n",
    "                break\n",
    "    elif way[i]=='S' and y+int(step[i])<W:\n",
    "        for i in range(int(step[i])):\n",
    "            if map[y+1][x]!='X':\n",
    "                y+=1\n",
    "                count+=1\n",
    "            else:\n",
    "                y-=count\n",
    "                break\n",
    "    elif way[i]=='N' and y-int(step[i])>=0:\n",
    "        for i in range(int(step[i])):\n",
    "            if map[y-1][x]!='X':\n",
    "                y-=1\n",
    "                count+=1\n",
    "            else:\n",
    "                y+=count\n",
    "                break    \n",
    "                    \n",
    "                \n",
    "\n",
    "    print(y,x)"
   ]
  },
  {
   "cell_type": "code",
   "execution_count": 161,
   "metadata": {},
   "outputs": [],
   "source": [
    "def solution(park, routes):\n",
    "    # 시작점('S') 찾기\n",
    "    x, y = 0, 0\n",
    "    for row in range(len(park)):\n",
    "        for col in range(len(park[row])):\n",
    "            if park[row][col] == 'S':  # 시작 지점 'S'\n",
    "                x, y = row, col\n",
    "    \n",
    "    # 이동 방향 정의\n",
    "    op = {'N':(-1, 0), 'S':(1, 0), 'W':(0, -1), 'E':(0, 1)}\n",
    "    \n",
    "    # 이동\n",
    "    for i in routes:\n",
    "        dx, dy = op[i.split()[0]]  # op에서 해당 방향에 맞는 이동 값 dx, dy로 가져오기\n",
    "        n = int(i.split()[1])  # 이동 횟수\n",
    "        \n",
    "        xx, yy = x, y  # n번의 이동 동안 변하는 좌표 저장 xx, yy\n",
    "        canmove = True  # 이동할 수 있는 route인지 확인\n",
    "        \n",
    "        # n번 이동해보기\n",
    "        for _ in range(n):\n",
    "            nx = xx + dx  # 이동한 위치\n",
    "            ny = yy + dy  # 이동한 위치\n",
    "            \n",
    "            # 공원 안에 있고, 장애물이 아니면 이동 가능(True)\n",
    "            if 0 <= nx <= len(park)-1 and 0 <= ny <= len(park[0])-1 and park[nx][ny] != 'X':\n",
    "                canmove = True\n",
    "                xx, yy = nx, ny\n",
    "            else:  # 공원을 벗어낫거나, 장애물이면 이동 불가(False)\n",
    "                canmove = False\n",
    "                break\n",
    "                \n",
    "        if canmove:  # 이동이 가능하면 위치 반영해주기\n",
    "            x, y = nx, ny  \n",
    "        \n",
    "    return [x, y]"
   ]
  },
  {
   "cell_type": "code",
   "execution_count": null,
   "metadata": {},
   "outputs": [],
   "source": []
  }
 ],
 "metadata": {
  "kernelspec": {
   "display_name": "conda_cpu",
   "language": "python",
   "name": "python3"
  },
  "language_info": {
   "codemirror_mode": {
    "name": "ipython",
    "version": 3
   },
   "file_extension": ".py",
   "mimetype": "text/x-python",
   "name": "python",
   "nbconvert_exporter": "python",
   "pygments_lexer": "ipython3",
   "version": "3.12.3"
  }
 },
 "nbformat": 4,
 "nbformat_minor": 2
}
