{
 "cells": [
  {
   "cell_type": "code",
   "execution_count": 2,
   "metadata": {},
   "outputs": [],
   "source": [
    "def check(bill,wallet):\n",
    "    \n",
    "    if (bill[0]<=wallet[0] and bill[1]<=wallet[1]) or (bill[1]<=wallet[0] and bill[0]<=wallet[1]):\n",
    "        return 1\n",
    "    else:\n",
    "        return 0\n",
    "\n",
    "\n",
    "def solution(wallet, bill):\n",
    "    answer = 0\n",
    "    \n",
    "    while(1):\n",
    "\n",
    "        if check(bill,wallet):\n",
    "            break\n",
    "        if bill[0]>=bill[1]:\n",
    "            if bill[0]>wallet[0] or bill[0]>wallet[1]:\n",
    "                bill[0]//=2\n",
    "                answer+=1\n",
    "                if check(bill,wallet):\n",
    "                    break\n",
    "            \n",
    "            if bill[1]>wallet[0] or bill[1]>wallet[1]:\n",
    "                bill[1]//=2\n",
    "                answer+=1\n",
    "                if check(bill,wallet):\n",
    "                    break\n",
    "        else:\n",
    "            if bill[1]>wallet[0] or bill[1]>wallet[1]:\n",
    "                bill[1]//=2\n",
    "                answer+=1\n",
    "                if check(bill,wallet):\n",
    "                    break\n",
    "                \n",
    "            if bill[0]>wallet[0] or bill[0]>wallet[1]:\n",
    "                bill[0]//=2\n",
    "                answer+=1\n",
    "                if check(bill,wallet):\n",
    "                    break\n",
    "        \n",
    "            \n",
    "        \n",
    "    return answer"
   ]
  },
  {
   "cell_type": "code",
   "execution_count": 11,
   "metadata": {},
   "outputs": [],
   "source": [
    "def solution(wallet, bill):\n",
    "    \n",
    "    answer = 0\n",
    "    \n",
    "    while min(bill)>min(wallet) or max(bill)>max(wallet):\n",
    "        \n",
    "        if bill[0]>bill[1]:\n",
    "            bill[0]//=2\n",
    "        else:\n",
    "            bill[1]//=2\n",
    "            \n",
    "        answer+=1\n",
    "       \n",
    "        \n",
    "            \n",
    "        \n",
    "    return answer"
   ]
  },
  {
   "cell_type": "code",
   "execution_count": 12,
   "metadata": {},
   "outputs": [
    {
     "name": "stdout",
     "output_type": "stream",
     "text": [
      "1\n"
     ]
    }
   ],
   "source": [
    "wallet=[30, 15]\n",
    "bill=[26, 17]\n",
    "print(solution(wallet, bill))"
   ]
  },
  {
   "cell_type": "code",
   "execution_count": 13,
   "metadata": {},
   "outputs": [
    {
     "name": "stdout",
     "output_type": "stream",
     "text": [
      "3\n"
     ]
    }
   ],
   "source": [
    "wallet=[50, 50]\t\n",
    "bill=[100, 241]\n",
    "print(solution(wallet, bill))"
   ]
  },
  {
   "cell_type": "code",
   "execution_count": 14,
   "metadata": {},
   "outputs": [
    {
     "name": "stdout",
     "output_type": "stream",
     "text": [
      "4\n"
     ]
    }
   ],
   "source": [
    "wallet=[10, 10]\t\n",
    "bill=[101, 11]\n",
    "print(solution(wallet, bill))"
   ]
  },
  {
   "cell_type": "code",
   "execution_count": null,
   "metadata": {},
   "outputs": [],
   "source": []
  }
 ],
 "metadata": {
  "kernelspec": {
   "display_name": "conda_cpu",
   "language": "python",
   "name": "python3"
  },
  "language_info": {
   "codemirror_mode": {
    "name": "ipython",
    "version": 3
   },
   "file_extension": ".py",
   "mimetype": "text/x-python",
   "name": "python",
   "nbconvert_exporter": "python",
   "pygments_lexer": "ipython3",
   "version": "3.12.3"
  }
 },
 "nbformat": 4,
 "nbformat_minor": 2
}
