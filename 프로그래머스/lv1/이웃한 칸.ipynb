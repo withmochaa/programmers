{
 "cells": [
  {
   "cell_type": "code",
   "execution_count": 33,
   "metadata": {},
   "outputs": [
    {
     "name": "stdout",
     "output_type": "stream",
     "text": [
      "3\n",
      "0\n"
     ]
    }
   ],
   "source": [
    "def solution(board, h, w):\n",
    "   \n",
    "    n=len(board)\n",
    "    print(n)\n",
    "    count=0\n",
    "    target=board[h][w]\n",
    "    \n",
    "    for i in range(n):#row\n",
    "        for j in range(n):#column\n",
    "            if i==h and j==w:\n",
    "                if i-1>=0:#up\n",
    "                    if target==board[i-1][j]:\n",
    "                        count+=1\n",
    "                if i+1<=n-1:\n",
    "                    if target==board[i+1][j]:\n",
    "                        count+=1\n",
    "                if j-1>=0:\n",
    "                    if target==board[i][j-1]:\n",
    "                        count+=1\n",
    "                if j+1<=n-1:\n",
    "                    if target==board[i][j+1]:\n",
    "                        count+=1\n",
    "          \n",
    "    answer = count\n",
    "    return answer\n",
    "\n",
    "board=[[\"yellow\", \"green\", \"blue\"], [\"blue\", \"green\", \"yellow\"], [\"yellow\", \"blue\", \"blue\"]]\n",
    "h=0\n",
    "w=2\n",
    "\n",
    "print(solution(board, h, w))"
   ]
  },
  {
   "cell_type": "code",
   "execution_count": 26,
   "metadata": {},
   "outputs": [
    {
     "data": {
      "text/plain": [
       "3"
      ]
     },
     "execution_count": 26,
     "metadata": {},
     "output_type": "execute_result"
    }
   ],
   "source": [
    "len(board)"
   ]
  },
  {
   "cell_type": "code",
   "execution_count": 30,
   "metadata": {},
   "outputs": [
    {
     "data": {
      "text/plain": [
       "6"
      ]
     },
     "execution_count": 30,
     "metadata": {},
     "output_type": "execute_result"
    }
   ],
   "source": [
    "n"
   ]
  },
  {
   "cell_type": "code",
   "execution_count": null,
   "metadata": {},
   "outputs": [],
   "source": []
  }
 ],
 "metadata": {
  "kernelspec": {
   "display_name": "conda_cpu",
   "language": "python",
   "name": "python3"
  },
  "language_info": {
   "codemirror_mode": {
    "name": "ipython",
    "version": 3
   },
   "file_extension": ".py",
   "mimetype": "text/x-python",
   "name": "python",
   "nbconvert_exporter": "python",
   "pygments_lexer": "ipython3",
   "version": "3.12.3"
  }
 },
 "nbformat": 4,
 "nbformat_minor": 2
}
