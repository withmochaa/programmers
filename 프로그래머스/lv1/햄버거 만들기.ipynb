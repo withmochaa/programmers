{
 "cells": [
  {
   "cell_type": "code",
   "execution_count": 371,
   "metadata": {},
   "outputs": [],
   "source": [
    "def solution(ingredient):\n",
    "    stack = []\n",
    "    answer = 0\n",
    "\n",
    "    for item in ingredient:\n",
    "        stack.append(item) \n",
    "\n",
    "        if len(stack) >= 4 and stack[-4:] == [1, 2, 3, 1]:\n",
    "            answer += 1  \n",
    "            del stack[-4:]  \n",
    "\n",
    "    return answer"
   ]
  },
  {
   "cell_type": "code",
   "execution_count": 372,
   "metadata": {},
   "outputs": [
    {
     "name": "stdout",
     "output_type": "stream",
     "text": [
      "[2] []\n",
      "[2, 1] [2]\n",
      "[2, 1, 1] [2, 1]\n",
      "[2, 1, 1, 2] [2, 1, 1]\n",
      "[2, 1, 1, 2, 3] [2, 1, 1, 2]\n",
      "[2, 1, 1, 2, 3, 1] [2, 1, 1, 2, 3]\n",
      "[2, 1, 2] [2, 1]\n",
      "[2, 1, 2, 3] [2, 1, 2]\n",
      "[2, 1, 2, 3, 1] [2, 1, 2, 3]\n",
      "2\n"
     ]
    }
   ],
   "source": [
    "ingredient=[2, 1, 1, 2, 3, 1, 2, 3, 1]\n",
    "print(solution(ingredient))"
   ]
  },
  {
   "cell_type": "code",
   "execution_count": 373,
   "metadata": {},
   "outputs": [],
   "source": [
    "def solution(ingredient):\n",
    "    answer=0\n",
    "    index=0\n",
    "    switch=0\n",
    "\n",
    "    while True:\n",
    "      \n",
    "        if switch==1:\n",
    "            index=0\n",
    "            switch=0\n",
    "        \n",
    "        if index+3>len(ingredient):\n",
    "            break\n",
    "        \n",
    "        if ingredient[index]==1 and ingredient[index+1]==2 and ingredient[index+2]==3 and ingredient[index+3]==1:\n",
    "            answer+=1\n",
    "            for i in range(4):\n",
    "                del ingredient[index]\n",
    "            switch=1\n",
    "\n",
    "        index+=1\n",
    "        #print(ingredient)\n",
    "    \n",
    "    return answer"
   ]
  },
  {
   "cell_type": "code",
   "execution_count": 366,
   "metadata": {},
   "outputs": [
    {
     "name": "stdout",
     "output_type": "stream",
     "text": [
      "2\n"
     ]
    }
   ],
   "source": [
    "ingredient=[2, 1, 1, 2, 3, 1, 2, 3, 1]\n",
    "#ingredient=[1, 3, 2, 1, 2, 1, 3, 1, 2]\n",
    "print(solution(ingredient))"
   ]
  },
  {
   "cell_type": "code",
   "execution_count": 361,
   "metadata": {},
   "outputs": [
    {
     "name": "stdout",
     "output_type": "stream",
     "text": [
      "0\n"
     ]
    }
   ],
   "source": [
    "print(solution(ingredient))"
   ]
  },
  {
   "cell_type": "code",
   "execution_count": 362,
   "metadata": {},
   "outputs": [],
   "source": [
    "ingredient=[2, 1, 1, 2, 3, 1, 2, 3, 1]"
   ]
  },
  {
   "cell_type": "code",
   "execution_count": 363,
   "metadata": {},
   "outputs": [
    {
     "data": {
      "text/plain": [
       "[1, 2, 3, 1]"
      ]
     },
     "execution_count": 363,
     "metadata": {},
     "output_type": "execute_result"
    }
   ],
   "source": [
    "ingredient[-4:]"
   ]
  },
  {
   "cell_type": "code",
   "execution_count": null,
   "metadata": {},
   "outputs": [],
   "source": []
  }
 ],
 "metadata": {
  "kernelspec": {
   "display_name": "conda_cpu",
   "language": "python",
   "name": "python3"
  },
  "language_info": {
   "codemirror_mode": {
    "name": "ipython",
    "version": 3
   },
   "file_extension": ".py",
   "mimetype": "text/x-python",
   "name": "python",
   "nbconvert_exporter": "python",
   "pygments_lexer": "ipython3",
   "version": "3.12.3"
  }
 },
 "nbformat": 4,
 "nbformat_minor": 2
}
