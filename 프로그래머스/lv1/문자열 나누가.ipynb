{
 "cells": [
  {
   "cell_type": "code",
   "execution_count": 286,
   "metadata": {},
   "outputs": [],
   "source": [
    "def solution(s):\n",
    "    alp=list(s)\n",
    "    count=0\n",
    "    index=0\n",
    "    sum=0\n",
    "    for i in range(0,len(alp)-1):\n",
    "        count1=0\n",
    "        count2=0\n",
    "        for j in range(index,len(alp)):\n",
    "            if alp[index]==alp[j]:\n",
    "                count1+=1\n",
    "            elif alp[index]!=alp[j]:\n",
    "                count2+=1\n",
    "            if count1==count2:\n",
    "                count+=1\n",
    "                index=j+1\n",
    "                break\n",
    "        num=count1+count2\n",
    "        sum+=num\n",
    "        if sum>=len(alp):\n",
    "            if count2==1 and count==0:\n",
    "                count+=1\n",
    "            if count1!=count2:\n",
    "                count=count+1\n",
    "            break\n",
    "        \n",
    "    if count==0:\n",
    "        count=1\n",
    "        \n",
    "    return count\n"
   ]
  },
  {
   "cell_type": "code",
   "execution_count": 287,
   "metadata": {},
   "outputs": [
    {
     "name": "stdout",
     "output_type": "stream",
     "text": [
      "1\n"
     ]
    }
   ],
   "source": [
    "#s=\"banana\"\n",
    "#s=\"abracadabra\"\n",
    "#s=\"aaabbaccccabba\"\n",
    "#s=\"abaabab\"\n",
    "#s=\"aaaaab\"\n",
    "s='a'\n",
    "print(solution(s))"
   ]
  },
  {
   "cell_type": "code",
   "execution_count": 142,
   "metadata": {},
   "outputs": [
    {
     "data": {
      "text/plain": [
       "['a', 'b', 'r', 'a', 'c', 'a', 'd', 'a', 'b', 'r', 'a']"
      ]
     },
     "execution_count": 142,
     "metadata": {},
     "output_type": "execute_result"
    }
   ],
   "source": [
    "alp=list(s)\n",
    "alp"
   ]
  },
  {
   "cell_type": "code",
   "execution_count": 201,
   "metadata": {},
   "outputs": [
    {
     "name": "stdout",
     "output_type": "stream",
     "text": [
      "11\n"
     ]
    }
   ],
   "source": [
    "print(len(alp))"
   ]
  },
  {
   "cell_type": "code",
   "execution_count": 143,
   "metadata": {},
   "outputs": [
    {
     "name": "stdout",
     "output_type": "stream",
     "text": [
      "5\n"
     ]
    }
   ],
   "source": [
    "count=0\n",
    "index=0\n",
    "length=0\n",
    "for i in range(0,len(alp)-1):\n",
    "    #print(index)\n",
    "    if index==len(alp)-1:\n",
    "        break\n",
    "    count1=0\n",
    "    count2=0\n",
    "    for j in range(index,len(alp)):\n",
    "        if alp[index]==alp[j]:\n",
    "            count1+=1\n",
    "        elif alp[index]!=alp[j]:\n",
    "            count2+=1\n",
    "        #print(count1, count2)\n",
    "        if count1==count2:\n",
    "            count+=1\n",
    "            length=length+j-index+1\n",
    "            index=j+1\n",
    "            break\n",
    "        #print(length,index,'---------------')\n",
    "        if index>=len(alp)-1:\n",
    "            if length!=len(alp):\n",
    "                count=count+1\n",
    "            #print('end')\n",
    "            break\n",
    "            \n",
    "    \n",
    "print(count)"
   ]
  },
  {
   "cell_type": "code",
   "execution_count": null,
   "metadata": {},
   "outputs": [],
   "source": []
  },
  {
   "cell_type": "code",
   "execution_count": null,
   "metadata": {},
   "outputs": [],
   "source": []
  }
 ],
 "metadata": {
  "kernelspec": {
   "display_name": "conda_cpu",
   "language": "python",
   "name": "python3"
  },
  "language_info": {
   "codemirror_mode": {
    "name": "ipython",
    "version": 3
   },
   "file_extension": ".py",
   "mimetype": "text/x-python",
   "name": "python",
   "nbconvert_exporter": "python",
   "pygments_lexer": "ipython3",
   "version": "3.12.3"
  }
 },
 "nbformat": 4,
 "nbformat_minor": 2
}
