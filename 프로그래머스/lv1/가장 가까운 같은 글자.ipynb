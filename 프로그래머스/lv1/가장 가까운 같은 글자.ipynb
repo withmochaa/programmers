{
 "cells": [
  {
   "cell_type": "code",
   "execution_count": 18,
   "metadata": {},
   "outputs": [],
   "source": [
    "def solution(s):\n",
    "    answer = []\n",
    "    alp=list(s)\n",
    "    for i in range(len(alp)):\n",
    "        A=alp[i]\n",
    "        index=0\n",
    "        for j in range(i):\n",
    "            if A==alp[j]:\n",
    "                index=i-j\n",
    "                \n",
    "        if index==0:\n",
    "            answer.append(-1)\n",
    "        elif index:\n",
    "            answer.append(index)\n",
    "    \n",
    "    \n",
    "    return answer"
   ]
  },
  {
   "cell_type": "code",
   "execution_count": 33,
   "metadata": {},
   "outputs": [],
   "source": [
    "s=\"banana\"\n",
    "#s=\"foobar\"\n",
    "#s=\"aaaaaaaaa\""
   ]
  },
  {
   "cell_type": "code",
   "execution_count": 34,
   "metadata": {},
   "outputs": [
    {
     "data": {
      "text/plain": [
       "['b', 'a', 'n', 'a', 'n', 'a']"
      ]
     },
     "execution_count": 34,
     "metadata": {},
     "output_type": "execute_result"
    }
   ],
   "source": [
    "alp=list(s)\n",
    "alp"
   ]
  },
  {
   "cell_type": "code",
   "execution_count": 35,
   "metadata": {},
   "outputs": [
    {
     "name": "stdout",
     "output_type": "stream",
     "text": [
      "0\n",
      "0\n",
      "0\n",
      "2\n",
      "2\n",
      "2\n",
      "[-1, -1, -1, 2, 2, 2]\n"
     ]
    }
   ],
   "source": [
    "answer=[]\n",
    "for i in range(len(alp)):\n",
    "    A=alp[i]\n",
    "    index=0\n",
    "    for j in range(i):\n",
    "        if A==alp[j]:\n",
    "            index=i-j\n",
    "    print(index)\n",
    "    if index==0:\n",
    "        answer.append(-1)\n",
    "    elif index:\n",
    "        answer.append(index)\n",
    "        \n",
    "print(answer)\n",
    "        \n",
    "    "
   ]
  },
  {
   "cell_type": "code",
   "execution_count": null,
   "metadata": {},
   "outputs": [],
   "source": []
  },
  {
   "cell_type": "code",
   "execution_count": null,
   "metadata": {},
   "outputs": [],
   "source": []
  }
 ],
 "metadata": {
  "kernelspec": {
   "display_name": "conda_cpu",
   "language": "python",
   "name": "python3"
  },
  "language_info": {
   "codemirror_mode": {
    "name": "ipython",
    "version": 3
   },
   "file_extension": ".py",
   "mimetype": "text/x-python",
   "name": "python",
   "nbconvert_exporter": "python",
   "pygments_lexer": "ipython3",
   "version": "3.12.3"
  }
 },
 "nbformat": 4,
 "nbformat_minor": 2
}
