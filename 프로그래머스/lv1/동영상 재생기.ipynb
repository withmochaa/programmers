{
 "cells": [
  {
   "cell_type": "code",
   "execution_count": 485,
   "metadata": {},
   "outputs": [],
   "source": [
    "def solution(video_len, pos, op_start, op_end, commands):\n",
    "\n",
    "    pos=pos.split(':')\n",
    "    op_start=op_start.split(':')\n",
    "    op_end=op_end.split(':')\n",
    "    video_len=video_len.split(':')\n",
    "    \n",
    "\n",
    "    if op_start[0]+op_start[1]<=pos[0]+pos[1]<=op_end[0]+op_end[1]:\n",
    "        pos=op_end\n",
    "\n",
    "    for change in commands:\n",
    "        min=int(pos[0])\n",
    "        sec=int(pos[1])\n",
    "\n",
    "        if change=='next':\n",
    "            sec+=10\n",
    "        if change=='prev':\n",
    "            sec-=10\n",
    "            \n",
    "        if sec>=60:\n",
    "            min+=1\n",
    "            sec=sec-60\n",
    "        if sec<0:\n",
    "            min-=1\n",
    "            sec=60+sec\n",
    "            if min<0 or sec<0:\n",
    "                min=0\n",
    "                sec=0\n",
    "        pos[0]=min\n",
    "        pos[1]=sec\n",
    "                \n",
    "        if pos[0]<10:\n",
    "            pos[0]='0'+str(pos[0])\n",
    "        else:\n",
    "            pos[0]=str(pos[0])\n",
    "    \n",
    "        if pos[1]<10:\n",
    "            pos[1]='0'+str(pos[1])\n",
    "        else:\n",
    "            pos[1]=str(pos[1])\n",
    "            \n",
    "        if op_start[0]+op_start[1]<=pos[0]+pos[1]<=op_end[0]+op_end[1]:\n",
    "            pos[0]=op_end[0]\n",
    "            pos[1]=op_end[1]\n",
    "        elif video_len[0]+video_len[1]<pos[0]+pos[1]:\n",
    "            pos[0]=video_len[0]\n",
    "            pos[1]=video_len[1]    \n",
    "        elif pos[0]+pos[1]<\"0\"*4:\n",
    "            pos[0]=\"0\"*2\n",
    "            pos[1]=\"0\"*2\n",
    "    \n",
    "    \n",
    "    \n",
    "    return pos[0]+':'+pos[1]"
   ]
  },
  {
   "cell_type": "code",
   "execution_count": 486,
   "metadata": {},
   "outputs": [
    {
     "name": "stdout",
     "output_type": "stream",
     "text": [
      "13:00\n"
     ]
    }
   ],
   "source": [
    "video_len=\"34:33\"\n",
    "pos=\"13:00\"\n",
    "op_start=\"00:55\"\n",
    "op_end=\"02:55\"\n",
    "commands=[\"next\", \"prev\"]\n",
    "\n",
    "\n",
    "print(solution(video_len, pos, op_start, op_end, commands))"
   ]
  },
  {
   "cell_type": "code",
   "execution_count": 487,
   "metadata": {},
   "outputs": [
    {
     "name": "stdout",
     "output_type": "stream",
     "text": [
      "06:55\n"
     ]
    }
   ],
   "source": [
    "video_len=\"10:55\"\n",
    "pos=\"00:05\"\n",
    "op_start=\"00:15\"\n",
    "op_end=\"06:55\"\n",
    "commands=[\"prev\", \"next\", \"next\"]\n",
    "\n",
    "\n",
    "print(solution(video_len, pos, op_start, op_end, commands))"
   ]
  },
  {
   "cell_type": "code",
   "execution_count": 488,
   "metadata": {},
   "outputs": [
    {
     "name": "stdout",
     "output_type": "stream",
     "text": [
      "04:17\n"
     ]
    }
   ],
   "source": [
    "video_len=\"07:22\"\n",
    "pos=\"04:05\"\n",
    "op_start=\"00:15\"\n",
    "op_end=\"04:07\"\n",
    "commands=[\"next\"]\n",
    "\n",
    "\n",
    "print(solution(video_len, pos, op_start, op_end, commands))"
   ]
  },
  {
   "cell_type": "code",
   "execution_count": 489,
   "metadata": {},
   "outputs": [
    {
     "name": "stdout",
     "output_type": "stream",
     "text": [
      "02:05\n"
     ]
    }
   ],
   "source": [
    "video_len=\"30:00\"\n",
    "pos=\"01:55\"\n",
    "op_start=\"01:00\"\n",
    "op_end= \"01:30\"\n",
    "commands=[\"next\"]\n",
    "\n",
    "\n",
    "print(solution(video_len, pos, op_start, op_end, commands))"
   ]
  },
  {
   "cell_type": "code",
   "execution_count": 490,
   "metadata": {},
   "outputs": [
    {
     "name": "stdout",
     "output_type": "stream",
     "text": [
      "59:55\n"
     ]
    }
   ],
   "source": [
    "video_len=\"59:59\"\n",
    "pos= \"59:45\"\n",
    "op_start=\"01:00\"\n",
    "op_end= \"01:00\"\n",
    "commands=[\"next\"]\n",
    "\n",
    "\n",
    "print(solution(video_len, pos, op_start, op_end, commands))"
   ]
  },
  {
   "cell_type": "code",
   "execution_count": 491,
   "metadata": {},
   "outputs": [
    {
     "name": "stdout",
     "output_type": "stream",
     "text": [
      "00:01\n"
     ]
    }
   ],
   "source": [
    "video_len=\"30:00\"\n",
    "pos=\"00:11\"\n",
    "op_start= \"05:00\"\n",
    "op_end=\"06:00\"\n",
    "commands=[\"prev\"]\n",
    "\n",
    "\n",
    "print(solution(video_len, pos, op_start, op_end, commands))"
   ]
  },
  {
   "cell_type": "code",
   "execution_count": 492,
   "metadata": {},
   "outputs": [
    {
     "name": "stdout",
     "output_type": "stream",
     "text": [
      "13:10\n"
     ]
    }
   ],
   "source": [
    "video_len=\"34:33\"\n",
    "pos= \"09:50\"\n",
    "op_start= \"10:00\"\n",
    "op_end=\"13:00\"\n",
    "commands= [\"next\", \"next\", \"next\", \"prev\"]\n",
    "\n",
    "\n",
    "print(solution(video_len, pos, op_start, op_end, commands))"
   ]
  },
  {
   "cell_type": "code",
   "execution_count": 493,
   "metadata": {},
   "outputs": [
    {
     "name": "stdout",
     "output_type": "stream",
     "text": [
      "00:05\n"
     ]
    }
   ],
   "source": [
    "video_len=\"30:00\"\n",
    "pos=  \"00:08\"\n",
    "op_start= \"00:00\"\n",
    "op_end=\"00:05\"\n",
    "commands= [\"prev\"]\n",
    "\n",
    "\n",
    "print(solution(video_len, pos, op_start, op_end, commands))"
   ]
  },
  {
   "cell_type": "code",
   "execution_count": 495,
   "metadata": {},
   "outputs": [
    {
     "name": "stdout",
     "output_type": "stream",
     "text": [
      "00:15\n"
     ]
    }
   ],
   "source": [
    "video_len=\"10:00\"\n",
    "pos=  \"00:00\"\n",
    "op_start= \"00:00\"\n",
    "op_end=\"00:05\"\n",
    "commands= [\"next\"]\n",
    "\n",
    "print(solution(video_len, pos, op_start, op_end, commands))"
   ]
  },
  {
   "cell_type": "code",
   "execution_count": 497,
   "metadata": {},
   "outputs": [],
   "source": [
    "a,b,c=map(int,input().split(' '))"
   ]
  },
  {
   "cell_type": "code",
   "execution_count": 498,
   "metadata": {},
   "outputs": [
    {
     "name": "stdout",
     "output_type": "stream",
     "text": [
      "1 2 3\n"
     ]
    }
   ],
   "source": [
    "print(a,b,c)"
   ]
  },
  {
   "cell_type": "code",
   "execution_count": null,
   "metadata": {},
   "outputs": [],
   "source": []
  }
 ],
 "metadata": {
  "kernelspec": {
   "display_name": "conda_cpu",
   "language": "python",
   "name": "python3"
  },
  "language_info": {
   "codemirror_mode": {
    "name": "ipython",
    "version": 3
   },
   "file_extension": ".py",
   "mimetype": "text/x-python",
   "name": "python",
   "nbconvert_exporter": "python",
   "pygments_lexer": "ipython3",
   "version": "3.12.3"
  }
 },
 "nbformat": 4,
 "nbformat_minor": 2
}
