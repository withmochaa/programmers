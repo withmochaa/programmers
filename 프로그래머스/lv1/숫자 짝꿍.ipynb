{
 "cells": [
  {
   "cell_type": "code",
   "execution_count": 175,
   "metadata": {},
   "outputs": [],
   "source": [
    "def solution(X, Y):\n",
    "    answer = ''\n",
    "    #X=list(X)\n",
    "    #Y=list(Y)\n",
    "    both=[]\n",
    "    for word in X:\n",
    "        if word in Y:\n",
    "            both.append(word)\n",
    "            Y=Y.replace(word,'*',1)\n",
    "            #print(Y)\n",
    "        \n",
    "    sheet=sorted(both,reverse=True)    \n",
    "    #print(sheet,count_0)\n",
    "    if len(sheet)==0:\n",
    "        return \"-1\"\n",
    "    \n",
    "    if sheet[0]==\"0\":\n",
    "        return \"0\"\n",
    "\n",
    "    answer=''.join(sheet)\n",
    "    \n",
    "    return answer"
   ]
  },
  {
   "cell_type": "code",
   "execution_count": 184,
   "metadata": {},
   "outputs": [],
   "source": [
    "def solution(X, Y):\n",
    "    answer = ''\n",
    "    count_Y = [0] * 10  \n",
    "\n",
    "    for digit in Y:\n",
    "        count_Y[int(digit)] += 1\n",
    "\n",
    "    both = []\n",
    "    for word in X:\n",
    "        if count_Y[int(word)] > 0:  \n",
    "            both.append(word)\n",
    "            count_Y[int(word)] -= 1  \n",
    "\n",
    "    sheet = sorted(both, reverse=True)    \n",
    "    if len(sheet) == 0:\n",
    "        return \"-1\"\n",
    "    \n",
    "    if sheet[0] == \"0\":\n",
    "        return \"0\"\n",
    "\n",
    "    answer = ''.join(sheet)\n",
    "    \n",
    "    return answer"
   ]
  },
  {
   "cell_type": "code",
   "execution_count": 185,
   "metadata": {},
   "outputs": [
    {
     "name": "stdout",
     "output_type": "stream",
     "text": [
      "-1\n"
     ]
    }
   ],
   "source": [
    "X=\"100\"\n",
    "Y=\"2345\"\n",
    "print(solution(X, Y))"
   ]
  },
  {
   "cell_type": "code",
   "execution_count": 186,
   "metadata": {},
   "outputs": [
    {
     "name": "stdout",
     "output_type": "stream",
     "text": [
      "0\n"
     ]
    }
   ],
   "source": [
    "X=\"100\"\n",
    "Y=\"203045\"\n",
    "print(solution(X, Y))"
   ]
  },
  {
   "cell_type": "code",
   "execution_count": 187,
   "metadata": {},
   "outputs": [
    {
     "name": "stdout",
     "output_type": "stream",
     "text": [
      "10\n"
     ]
    }
   ],
   "source": [
    "X=\"100\"\n",
    "Y=\"123450\"\n",
    "print(solution(X, Y))"
   ]
  },
  {
   "cell_type": "code",
   "execution_count": 188,
   "metadata": {},
   "outputs": [
    {
     "name": "stdout",
     "output_type": "stream",
     "text": [
      "321\n"
     ]
    }
   ],
   "source": [
    "X=\"12321\"\n",
    "Y=\"42531\"\t\n",
    "print(solution(X, Y))"
   ]
  },
  {
   "cell_type": "code",
   "execution_count": 189,
   "metadata": {},
   "outputs": [
    {
     "name": "stdout",
     "output_type": "stream",
     "text": [
      "552\n"
     ]
    }
   ],
   "source": [
    "X=\"5525\"\n",
    "Y=\"1255\"\n",
    "print(solution(X, Y))"
   ]
  },
  {
   "cell_type": "code",
   "execution_count": 190,
   "metadata": {},
   "outputs": [
    {
     "name": "stdout",
     "output_type": "stream",
     "text": [
      "[1, 2, 3]\n"
     ]
    }
   ],
   "source": [
    "a=[1,2,3]\n",
    "\n",
    "print(str(a))"
   ]
  },
  {
   "cell_type": "code",
   "execution_count": 1,
   "metadata": {},
   "outputs": [
    {
     "name": "stdout",
     "output_type": "stream",
     "text": [
      "5\n"
     ]
    }
   ],
   "source": [
    "a='aaaaa'\n",
    "print(a.count('a'))"
   ]
  },
  {
   "cell_type": "code",
   "execution_count": 192,
   "metadata": {},
   "outputs": [
    {
     "name": "stdout",
     "output_type": "stream",
     "text": [
      "5\n",
      "5\n",
      "2\n",
      "5\n"
     ]
    }
   ],
   "source": [
    "for x in X:\n",
    "    print(x)"
   ]
  },
  {
   "cell_type": "code",
   "execution_count": null,
   "metadata": {},
   "outputs": [],
   "source": []
  }
 ],
 "metadata": {
  "kernelspec": {
   "display_name": "conda_cpu",
   "language": "python",
   "name": "python3"
  },
  "language_info": {
   "codemirror_mode": {
    "name": "ipython",
    "version": 3
   },
   "file_extension": ".py",
   "mimetype": "text/x-python",
   "name": "python",
   "nbconvert_exporter": "python",
   "pygments_lexer": "ipython3",
   "version": "3.12.3"
  }
 },
 "nbformat": 4,
 "nbformat_minor": 2
}
