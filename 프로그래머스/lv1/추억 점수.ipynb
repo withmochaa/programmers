{
 "cells": [
  {
   "cell_type": "code",
   "execution_count": 20,
   "metadata": {},
   "outputs": [
    {
     "name": "stdout",
     "output_type": "stream",
     "text": [
      "[19, 15, 6]\n"
     ]
    }
   ],
   "source": [
    "def solution(name, yearning, photo):\n",
    "    \n",
    "    index={f:i for i,f in enumerate(name)}\n",
    "\n",
    "    answer=[]\n",
    "    count=0\n",
    "    for name in index:\n",
    "        index[name]=yearning[count]\n",
    "        count+=1\n",
    "    \n",
    "    for target in photo:\n",
    "        count=0\n",
    "        for i in range(len(target)):\n",
    "            if target[i] in index:\n",
    "                count+=index[target[i]]\n",
    "            \n",
    "        answer.append(count)       \n",
    "    \n",
    "    return answer\n",
    "\n",
    "\n",
    "\n",
    "print(solution(name, yearning, photo))"
   ]
  },
  {
   "cell_type": "code",
   "execution_count": 19,
   "metadata": {},
   "outputs": [],
   "source": [
    "name=[\"may\", \"kein\", \"kain\", \"radi\"]\n",
    "yearning=[5, 10, 1, 3]\n",
    "photo=[[\"may\", \"kein\", \"kain\", \"radi\"],[\"may\", \"kein\", \"brin\", \"deny\"], [\"kon\", \"kain\", \"may\", \"coni\"]]"
   ]
  },
  {
   "cell_type": "code",
   "execution_count": 18,
   "metadata": {},
   "outputs": [
    {
     "data": {
      "text/plain": [
       "[19, 15, 6]"
      ]
     },
     "execution_count": 18,
     "metadata": {},
     "output_type": "execute_result"
    }
   ],
   "source": [
    "index={f:i for i,f in enumerate(name)}\n",
    "\n",
    "answer=[]\n",
    "count=0\n",
    "for name in index:\n",
    "    index[name]=yearning[count]\n",
    "    count+=1\n",
    "    \n",
    "for target in photo:\n",
    "    count=0\n",
    "    for i in range(len(target)):\n",
    "        if target[i] in index:\n",
    "            count+=index[target[i]]\n",
    "            \n",
    "    answer.append(count)       \n",
    "    \n",
    "answer"
   ]
  },
  {
   "cell_type": "code",
   "execution_count": 17,
   "metadata": {},
   "outputs": [
    {
     "data": {
      "text/plain": [
       "{'may': 0, 'kein': 1, 'kain': 2, 'radi': 3}"
      ]
     },
     "execution_count": 17,
     "metadata": {},
     "output_type": "execute_result"
    }
   ],
   "source": [
    "index"
   ]
  },
  {
   "cell_type": "code",
   "execution_count": 11,
   "metadata": {},
   "outputs": [
    {
     "ename": "KeyError",
     "evalue": "0",
     "output_type": "error",
     "traceback": [
      "\u001b[0;31m---------------------------------------------------------------------------\u001b[0m",
      "\u001b[0;31mKeyError\u001b[0m                                  Traceback (most recent call last)",
      "Cell \u001b[0;32mIn[11], line 1\u001b[0m\n\u001b[0;32m----> 1\u001b[0m index[\u001b[38;5;241m0\u001b[39m]\n",
      "\u001b[0;31mKeyError\u001b[0m: 0"
     ]
    }
   ],
   "source": []
  },
  {
   "cell_type": "code",
   "execution_count": null,
   "metadata": {},
   "outputs": [],
   "source": []
  }
 ],
 "metadata": {
  "kernelspec": {
   "display_name": "conda_cpu",
   "language": "python",
   "name": "python3"
  },
  "language_info": {
   "codemirror_mode": {
    "name": "ipython",
    "version": 3
   },
   "file_extension": ".py",
   "mimetype": "text/x-python",
   "name": "python",
   "nbconvert_exporter": "python",
   "pygments_lexer": "ipython3",
   "version": "3.12.3"
  }
 },
 "nbformat": 4,
 "nbformat_minor": 2
}
