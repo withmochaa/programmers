{
 "cells": [
  {
   "cell_type": "code",
   "execution_count": 118,
   "metadata": {},
   "outputs": [],
   "source": [
    "def solution(s, skip, index):\n",
    "    s=list(s)\n",
    "    skip=list(skip)\n",
    "    answer=[]\n",
    "    for password in s:\n",
    "        count=0\n",
    "        i=0\n",
    "        num=ord(password)\n",
    "        while(True):\n",
    "            if chr(num)=='z':\n",
    "                if 'a' not in skip:\n",
    "                    num=ord('a')-1\n",
    "                else:\n",
    "                    num=ord('b')\n",
    "            \n",
    "            if chr(num) not in skip:\n",
    "                count+=1\n",
    "                num+=1\n",
    "            else:\n",
    "                num+=1\n",
    "\n",
    "            #print(chr(num))\n",
    "            if count==index:\n",
    "                answer.append(chr(num))\n",
    "                #print(chr(num))               \n",
    "                break\n",
    "    return ''.join(answer)"
   ]
  },
  {
   "cell_type": "markdown",
   "metadata": {},
   "source": []
  },
  {
   "cell_type": "code",
   "execution_count": 480,
   "metadata": {},
   "outputs": [
    {
     "name": "stdout",
     "output_type": "stream",
     "text": [
      "y -------------------------------\n",
      "c\n",
      "c\n"
     ]
    }
   ],
   "source": [
    "s=\"y\"\n",
    "skip=\"baz\"\n",
    "index=1\n",
    "print(solution(s, skip, index))"
   ]
  },
  {
   "cell_type": "code",
   "execution_count": 481,
   "metadata": {},
   "outputs": [
    {
     "data": {
      "text/plain": [
       "['y']"
      ]
     },
     "execution_count": 481,
     "metadata": {},
     "output_type": "execute_result"
    }
   ],
   "source": [
    "s=list(s)\n",
    "s"
   ]
  },
  {
   "cell_type": "code",
   "execution_count": 482,
   "metadata": {},
   "outputs": [],
   "source": [
    "skip=list(skip)"
   ]
  },
  {
   "cell_type": "code",
   "execution_count": 485,
   "metadata": {},
   "outputs": [],
   "source": [
    "def solution(s, skip, index):\n",
    "    s=list(s)\n",
    "    skip=list(skip)\n",
    "    answer=[]\n",
    "    for password in s:\n",
    "        count=0\n",
    "        num=ord(password)\n",
    "        #print(chr(num),'-------------------------------')\n",
    "        while(True):\n",
    "            num+=1\n",
    "            if ord('z')<num:\n",
    "                num=ord('a')\n",
    "            if chr(num) in skip:\n",
    "                while(1):\n",
    "                    num+=1\n",
    "                    if num>ord('z'):\n",
    "                        num=ord('a')\n",
    "                    if chr(num) not in skip:\n",
    "                        count+=1\n",
    "                        break\n",
    "            elif chr(num) not in skip:\n",
    "                count+=1\n",
    "            #print(chr(num))\n",
    "            if count==index:\n",
    "                answer.append(chr(num))\n",
    "                break\n",
    "            \n",
    "           \n",
    "    return ''.join(answer)"
   ]
  },
  {
   "cell_type": "code",
   "execution_count": 486,
   "metadata": {},
   "outputs": [
    {
     "name": "stdout",
     "output_type": "stream",
     "text": [
      "c\n"
     ]
    }
   ],
   "source": [
    "print(solution(s, skip, index))"
   ]
  },
  {
   "cell_type": "code",
   "execution_count": 434,
   "metadata": {},
   "outputs": [
    {
     "data": {
      "text/plain": [
       "125"
      ]
     },
     "execution_count": 434,
     "metadata": {},
     "output_type": "execute_result"
    }
   ],
   "source": [
    "ord('}')"
   ]
  },
  {
   "cell_type": "code",
   "execution_count": 435,
   "metadata": {},
   "outputs": [
    {
     "data": {
      "text/plain": [
       "121"
      ]
     },
     "execution_count": 435,
     "metadata": {},
     "output_type": "execute_result"
    }
   ],
   "source": [
    "ord('y')"
   ]
  },
  {
   "cell_type": "code",
   "execution_count": 436,
   "metadata": {},
   "outputs": [
    {
     "data": {
      "text/plain": [
       "122"
      ]
     },
     "execution_count": 436,
     "metadata": {},
     "output_type": "execute_result"
    }
   ],
   "source": [
    "ord('z')"
   ]
  },
  {
   "cell_type": "code",
   "execution_count": null,
   "metadata": {},
   "outputs": [],
   "source": []
  }
 ],
 "metadata": {
  "kernelspec": {
   "display_name": "conda_cpu",
   "language": "python",
   "name": "python3"
  },
  "language_info": {
   "codemirror_mode": {
    "name": "ipython",
    "version": 3
   },
   "file_extension": ".py",
   "mimetype": "text/x-python",
   "name": "python",
   "nbconvert_exporter": "python",
   "pygments_lexer": "ipython3",
   "version": "3.12.3"
  }
 },
 "nbformat": 4,
 "nbformat_minor": 2
}
